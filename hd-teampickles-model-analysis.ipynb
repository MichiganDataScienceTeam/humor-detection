{
 "cells": [
  {
   "cell_type": "markdown",
   "metadata": {
    "papermill": {
     "duration": 0.019355,
     "end_time": "2020-12-10T15:21:19.501764",
     "exception": false,
     "start_time": "2020-12-10T15:21:19.482409",
     "status": "completed"
    },
    "tags": []
   },
   "source": [
    "This is a rundown of the model we used to detect humor. We used BERT as our encoder, and then passed its output into a neural network to classify each sequence as a joke or a non-joke. Here is an overview of what we did, and how well our model performed, along with possible next steps to improve the model."
   ]
  },
  {
   "cell_type": "code",
   "execution_count": 1,
   "metadata": {
    "_kg_hide-input": true,
    "_kg_hide-output": true,
    "execution": {
     "iopub.execute_input": "2020-12-10T15:21:19.570282Z",
     "iopub.status.busy": "2020-12-10T15:21:19.569368Z",
     "iopub.status.idle": "2020-12-10T15:22:38.906062Z",
     "shell.execute_reply": "2020-12-10T15:22:38.905358Z"
    },
    "papermill": {
     "duration": 79.385956,
     "end_time": "2020-12-10T15:22:38.906205",
     "exception": false,
     "start_time": "2020-12-10T15:21:19.520249",
     "status": "completed"
    },
    "tags": []
   },
   "outputs": [
    {
     "name": "stdout",
     "output_type": "stream",
     "text": [
      "Collecting transformers\r\n",
      "  Downloading transformers-4.0.1-py3-none-any.whl (1.4 MB)\r\n",
      "\u001b[K     |████████████████████████████████| 1.4 MB 1.3 MB/s \r\n",
      "\u001b[?25hCollecting tokenizers==0.9.4\r\n",
      "  Downloading tokenizers-0.9.4-cp37-cp37m-manylinux2010_x86_64.whl (2.9 MB)\r\n",
      "\u001b[K     |████████████████████████████████| 2.9 MB 7.5 MB/s \r\n",
      "\u001b[?25hRequirement already satisfied, skipping upgrade: sacremoses in /opt/conda/lib/python3.7/site-packages (from transformers) (0.0.43)\r\n",
      "Requirement already satisfied, skipping upgrade: packaging in /opt/conda/lib/python3.7/site-packages (from transformers) (20.1)\r\n",
      "Requirement already satisfied, skipping upgrade: tqdm>=4.27 in /opt/conda/lib/python3.7/site-packages (from transformers) (4.45.0)\r\n",
      "Requirement already satisfied, skipping upgrade: filelock in /opt/conda/lib/python3.7/site-packages (from transformers) (3.0.10)\r\n",
      "Requirement already satisfied, skipping upgrade: regex!=2019.12.17 in /opt/conda/lib/python3.7/site-packages (from transformers) (2020.4.4)\r\n",
      "Requirement already satisfied, skipping upgrade: requests in /opt/conda/lib/python3.7/site-packages (from transformers) (2.23.0)\r\n",
      "Requirement already satisfied, skipping upgrade: numpy in /opt/conda/lib/python3.7/site-packages (from transformers) (1.18.5)\r\n",
      "Requirement already satisfied, skipping upgrade: joblib in /opt/conda/lib/python3.7/site-packages (from sacremoses->transformers) (0.14.1)\r\n",
      "Requirement already satisfied, skipping upgrade: six in /opt/conda/lib/python3.7/site-packages (from sacremoses->transformers) (1.14.0)\r\n",
      "Requirement already satisfied, skipping upgrade: click in /opt/conda/lib/python3.7/site-packages (from sacremoses->transformers) (7.1.1)\r\n",
      "Requirement already satisfied, skipping upgrade: pyparsing>=2.0.2 in /opt/conda/lib/python3.7/site-packages (from packaging->transformers) (2.4.7)\r\n",
      "Requirement already satisfied, skipping upgrade: idna<3,>=2.5 in /opt/conda/lib/python3.7/site-packages (from requests->transformers) (2.9)\r\n",
      "Requirement already satisfied, skipping upgrade: urllib3!=1.25.0,!=1.25.1,<1.26,>=1.21.1 in /opt/conda/lib/python3.7/site-packages (from requests->transformers) (1.25.9)\r\n",
      "Requirement already satisfied, skipping upgrade: certifi>=2017.4.17 in /opt/conda/lib/python3.7/site-packages (from requests->transformers) (2020.11.8)\r\n",
      "Requirement already satisfied, skipping upgrade: chardet<4,>=3.0.2 in /opt/conda/lib/python3.7/site-packages (from requests->transformers) (3.0.4)\r\n",
      "Installing collected packages: tokenizers, transformers\r\n",
      "  Attempting uninstall: tokenizers\r\n",
      "    Found existing installation: tokenizers 0.9.2\r\n",
      "    Uninstalling tokenizers-0.9.2:\r\n",
      "      Successfully uninstalled tokenizers-0.9.2\r\n",
      "  Attempting uninstall: transformers\r\n",
      "    Found existing installation: transformers 3.4.0\r\n",
      "    Uninstalling transformers-3.4.0:\r\n",
      "      Successfully uninstalled transformers-3.4.0\r\n",
      "\u001b[31mERROR: After October 2020 you may experience errors when installing or updating packages. This is because pip will change the way that it resolves dependency conflicts.\r\n",
      "\r\n",
      "We recommend you use --use-feature=2020-resolver to test your packages with the new resolver before it becomes the default.\r\n",
      "\r\n",
      "allennlp 1.2.1 requires transformers<3.5,>=3.1, but you'll have transformers 4.0.1 which is incompatible.\u001b[0m\r\n",
      "Successfully installed tokenizers-0.9.4 transformers-4.0.1\r\n",
      "\u001b[33mWARNING: You are using pip version 20.2.4; however, version 20.3.1 is available.\r\n",
      "You should consider upgrading via the '/opt/conda/bin/python3.7 -m pip install --upgrade pip' command.\u001b[0m\r\n"
     ]
    },
    {
     "data": {
      "application/vnd.jupyter.widget-view+json": {
       "model_id": "a1b7b1efaaac4cbabf0722cb997f7a70",
       "version_major": 2,
       "version_minor": 0
      },
      "text/plain": [
       "HBox(children=(FloatProgress(value=0.0, description='Downloading', max=433.0, style=ProgressStyle(description_…"
      ]
     },
     "metadata": {},
     "output_type": "display_data"
    },
    {
     "name": "stdout",
     "output_type": "stream",
     "text": [
      "\n"
     ]
    },
    {
     "data": {
      "application/vnd.jupyter.widget-view+json": {
       "model_id": "3c49518e8a4a4e2ba87ea2ac00bf28a6",
       "version_major": 2,
       "version_minor": 0
      },
      "text/plain": [
       "HBox(children=(FloatProgress(value=0.0, description='Downloading', max=231508.0, style=ProgressStyle(descripti…"
      ]
     },
     "metadata": {},
     "output_type": "display_data"
    },
    {
     "name": "stdout",
     "output_type": "stream",
     "text": [
      "\n"
     ]
    },
    {
     "data": {
      "application/vnd.jupyter.widget-view+json": {
       "model_id": "55d3dd8831114dfc86164e2bd7fa1811",
       "version_major": 2,
       "version_minor": 0
      },
      "text/plain": [
       "HBox(children=(FloatProgress(value=0.0, description='Downloading', max=466062.0, style=ProgressStyle(descripti…"
      ]
     },
     "metadata": {},
     "output_type": "display_data"
    },
    {
     "name": "stdout",
     "output_type": "stream",
     "text": [
      "\n"
     ]
    },
    {
     "data": {
      "application/vnd.jupyter.widget-view+json": {
       "model_id": "5fe06ec14a0e40cf8c81d2975a01c4fc",
       "version_major": 2,
       "version_minor": 0
      },
      "text/plain": [
       "HBox(children=(FloatProgress(value=0.0, description='Downloading', max=536063208.0, style=ProgressStyle(descri…"
      ]
     },
     "metadata": {},
     "output_type": "display_data"
    },
    {
     "name": "stdout",
     "output_type": "stream",
     "text": [
      "\n"
     ]
    },
    {
     "name": "stderr",
     "output_type": "stream",
     "text": [
      "Some layers from the model checkpoint at bert-base-uncased were not used when initializing TFBertForSequenceClassification: ['mlm___cls', 'nsp___cls']\n",
      "- This IS expected if you are initializing TFBertForSequenceClassification from the checkpoint of a model trained on another task or with another architecture (e.g. initializing a BertForSequenceClassification model from a BertForPreTraining model).\n",
      "- This IS NOT expected if you are initializing TFBertForSequenceClassification from the checkpoint of a model that you expect to be exactly identical (initializing a BertForSequenceClassification model from a BertForSequenceClassification model).\n",
      "Some layers of TFBertForSequenceClassification were not initialized from the model checkpoint at bert-base-uncased and are newly initialized: ['classifier', 'dropout_37']\n",
      "You should probably TRAIN this model on a down-stream task to be able to use it for predictions and inference.\n"
     ]
    }
   ],
   "source": [
    "!pip install --upgrade transformers\n",
    "import numpy as np # linear algebra\n",
    "import pandas as pd # data processing, CSV file I/O (e.g. pd.read_csv)\n",
    "import transformers as ppb # BERT Model\n",
    "import pickle # decode pickled data\n",
    "import tensorflow as tf\n",
    "from sklearn.neural_network import MLPClassifier\n",
    "from sklearn.model_selection import GridSearchCV\n",
    "from sklearn.model_selection import cross_val_score\n",
    "import re\n",
    "from nltk.stem import WordNetLemmatizer\n",
    "from nltk.tokenize import regexp_tokenize\n",
    "import matplotlib.pyplot as plt\n",
    "import seaborn as sns\n",
    "\n",
    "tokenizer = ppb.AutoTokenizer.from_pretrained(\"bert-base-uncased\")\n",
    "model = ppb.TFBertForSequenceClassification.from_pretrained(\"bert-base-uncased\")\n",
    "\n",
    "def lemmatize(s):\n",
    "    wordnet_lemmatizer = WordNetLemmatizer()\n",
    "    return \" \".join([wordnet_lemmatizer.lemmatize(w,'v') for w in s.split(\" \")])\n",
    "def lower(s):\n",
    "    return s.lower()\n",
    "def clean(data):\n",
    "    for item in data:\n",
    "        lemmatize(item)\n",
    "        lower(item)\n",
    "        re.sub(r'\\d+', '', item) # remove nums\n",
    "    return data\n",
    "def tokenize(text):\n",
    "    tokenized = tokenizer(text, padding=True, truncation=True, return_tensors=\"tf\")\n",
    "    return tokenized\n",
    "def process(data):\n",
    "    cleaned = clean(data)\n",
    "    return tokenize(data)\n",
    "\n",
    "train_x = pd.read_pickle(\"../input/humor-detection/X_train.pickle\")\n",
    "train_y = pd.read_pickle(\"../input/humor-detection/y_train.pickle\")\n",
    "test_x = pd.read_pickle(\"../input/humor-detection/X_test.pickle\")\n",
    "test_y = pd.read_pickle(\"../input/humor-detection/y_test.pickle\")\n",
    "model.load_weights(\"../input/week-3-bert-implementation-run/model/model_checkpoint.ckpt\")\n",
    "\n",
    "train_batch = process(train_x)\n",
    "test_batch = process(test_x)\n",
    "\n",
    "def predict(joke, model):\n",
    "    test_jokes = [\n",
    "    \"Don’t you hate people who use big words just to make themselves look perspicacious?\",\n",
    "    \"My friend thinks he is smart. He told me an onion is the only food that makes you cry, so I threw a coconut at his face.\",\n",
    "    \"So far, consumers haven’t returned to the sort of panic buying frenzy that sent packaged-food manufacturers scrambling earlier this year.\",\n",
    "    \"Wall Street Week Ahead: Stock investors cast wary eye on yield rally\",\n",
    "    \"What happens to a frog's car when it breaks down? It gets toad away.\"\n",
    "    ]\n",
    "    test_jokes.append(joke)\n",
    "    tk = tokenizer(test_jokes, padding=True)\n",
    "    out = model.predict(x=tk.input_ids)\n",
    "    boolean_pred = np.argmax(out[0], axis=1)\n",
    "    return boolean_pred[len(boolean_pred)-1] == 1"
   ]
  },
  {
   "cell_type": "markdown",
   "metadata": {
    "papermill": {
     "duration": 0.037724,
     "end_time": "2020-12-10T15:22:38.983523",
     "exception": false,
     "start_time": "2020-12-10T15:22:38.945799",
     "status": "completed"
    },
    "tags": []
   },
   "source": [
    "# The Model\n",
    "For this classification, we are using the inbuilt <code>TFBertForSequenceClassification</code> model from huggingface's transformers package. This model already had all the functionality we were looking for, which made training and setting up the model easier. Below, is the model summary."
   ]
  },
  {
   "cell_type": "code",
   "execution_count": 2,
   "metadata": {
    "_kg_hide-input": true,
    "execution": {
     "iopub.execute_input": "2020-12-10T15:22:39.073509Z",
     "iopub.status.busy": "2020-12-10T15:22:39.072506Z",
     "iopub.status.idle": "2020-12-10T15:22:39.125882Z",
     "shell.execute_reply": "2020-12-10T15:22:39.126390Z"
    },
    "papermill": {
     "duration": 0.1047,
     "end_time": "2020-12-10T15:22:39.126559",
     "exception": false,
     "start_time": "2020-12-10T15:22:39.021859",
     "status": "completed"
    },
    "tags": []
   },
   "outputs": [
    {
     "name": "stdout",
     "output_type": "stream",
     "text": [
      "Model: \"tf_bert_for_sequence_classification\"\n",
      "_________________________________________________________________\n",
      "Layer (type)                 Output Shape              Param #   \n",
      "=================================================================\n",
      "bert (TFBertMainLayer)       multiple                  109482240 \n",
      "_________________________________________________________________\n",
      "dropout_37 (Dropout)         multiple                  0         \n",
      "_________________________________________________________________\n",
      "classifier (Dense)           multiple                  1538      \n",
      "=================================================================\n",
      "Total params: 109,483,778\n",
      "Trainable params: 109,483,778\n",
      "Non-trainable params: 0\n",
      "_________________________________________________________________\n"
     ]
    }
   ],
   "source": [
    "optimizer = tf.keras.optimizers.Adam(learning_rate=2e-6, epsilon=1e-5)\n",
    "loss = tf.keras.losses.SparseCategoricalCrossentropy(from_logits=True)\n",
    "metric1 = tf.keras.metrics.SparseCategoricalAccuracy('accuracy')\n",
    "model.compile(optimizer=optimizer, loss=loss, metrics=[metric1])\n",
    "model.summary()"
   ]
  },
  {
   "cell_type": "markdown",
   "metadata": {
    "papermill": {
     "duration": 0.038595,
     "end_time": "2020-12-10T15:22:39.201304",
     "exception": false,
     "start_time": "2020-12-10T15:22:39.162709",
     "status": "completed"
    },
    "tags": []
   },
   "source": [
    "Most of the training of this model came towards fine-tuning the weights of BERT to better fit our task. In total, we trained 109,483,778 parameters.\n",
    "\n",
    "The model inside is really 3 different layers of modelling.\n",
    "1. <code>TFBertMainLayer</code> - This is the part which takes in the tokenized sequence inputs and converts them into tensors via BERT's encoding methods.\n",
    "2. <code>dropout_37</code> - This layer of the neural network selectively \"drops out\", or removes a couple of neurons from the input into the next layer, as a method of regularization.\n",
    "3. <code>classifier</code> - This layer takes in the regularized BERT outputs and classifies each as a Joke or Non-Joke (positive or negative)"
   ]
  },
  {
   "cell_type": "markdown",
   "metadata": {
    "papermill": {
     "duration": 0.042774,
     "end_time": "2020-12-10T15:22:39.282533",
     "exception": false,
     "start_time": "2020-12-10T15:22:39.239759",
     "status": "completed"
    },
    "tags": []
   },
   "source": [
    "The training for this model, on average, takes about 1 hour with a Nvidia Tesla k80 GPU. The hyperparameters are:\n",
    "* Learning Rate: 1e-5\n",
    "* Epsilon (to prevent non-zero division): 1e-8\n",
    "* Epochs: 2 - two epochs were all that were necessary because by that point in time, validation loss had converged (training for any more epochs actually increased validation loss. \n",
    "\n",
    "# The Results"
   ]
  },
  {
   "cell_type": "code",
   "execution_count": 3,
   "metadata": {
    "_kg_hide-input": true,
    "execution": {
     "iopub.execute_input": "2020-12-10T15:22:39.369286Z",
     "iopub.status.busy": "2020-12-10T15:22:39.368251Z",
     "iopub.status.idle": "2020-12-10T15:22:59.862607Z",
     "shell.execute_reply": "2020-12-10T15:22:59.861974Z"
    },
    "papermill": {
     "duration": 20.540761,
     "end_time": "2020-12-10T15:22:59.862736",
     "exception": false,
     "start_time": "2020-12-10T15:22:39.321975",
     "status": "completed"
    },
    "tags": []
   },
   "outputs": [
    {
     "name": "stdout",
     "output_type": "stream",
     "text": [
      "              precision    recall  f1-score   support\n",
      "\n",
      "           0       0.99      0.99      0.99      2304\n",
      "           1       0.98      0.98      0.98      1051\n",
      "\n",
      "    accuracy                           0.99      3355\n",
      "   macro avg       0.98      0.98      0.98      3355\n",
      "weighted avg       0.99      0.99      0.99      3355\n",
      "\n"
     ]
    },
    {
     "data": {
      "text/plain": [
       "Text(0.5, 1.0, 'Confusion Matrix of Predicted Labels for Joke and Non-Joke Sequences')"
      ]
     },
     "execution_count": 3,
     "metadata": {},
     "output_type": "execute_result"
    },
    {
     "data": {
      "image/png": "[encoded data removed]",
      "text/plain": [
       "<Figure size 432x288 with 2 Axes>"
      ]
     },
     "metadata": {
      "needs_background": "light"
     },
     "output_type": "display_data"
    }
   ],
   "source": [
    "from sklearn.metrics import confusion_matrix\n",
    "from sklearn.metrics import classification_report\n",
    "y_pred = model.predict(x=[test_batch.input_ids,test_batch.attention_mask])\n",
    "y_pred_bool = np.argmax(y_pred[0], axis=1)\n",
    "cf = confusion_matrix(np.array(test_y), y_pred_bool)\n",
    "labels = np.array([\"True Negative\", \"False Positive\", \"False Negative\", \"True Positive\"]).reshape(2,2)\n",
    "ax = sns.heatmap(cf/np.sum(cf), annot=True,fmt='.2%', cmap=\"Blues\")\n",
    "print(classification_report(test_y, y_pred_bool))\n",
    "ax.set_title(\"Confusion Matrix of Predicted Labels for Joke and Non-Joke Sequences\")"
   ]
  },
  {
   "cell_type": "markdown",
   "metadata": {
    "papermill": {
     "duration": 0.043424,
     "end_time": "2020-12-10T15:22:59.949056",
     "exception": false,
     "start_time": "2020-12-10T15:22:59.905632",
     "status": "completed"
    },
    "tags": []
   },
   "source": [
    "An F1-score of 99 is very high and lends evidences to say our model is doing quite well. The confusion matrix visually shows that there are minimal cases of False Positives (0.69%) and False Negatives (0.72%) being reported by the model.\n",
    "\n",
    "There is a very high concern of overfitting here, considering the high accuracy and F1 score of the model. Howewver, since test set loss was always low, there is no overfitting with respect to this dataset. It is very likely that the test set that we were given for this prediction task was not different enough from the training set, and so it did not present a very valid metric of how well the model generalized. It is likely that while our model works very, very well on this specific dataset of jokes and non-jokes, it may not be able to generalize well to jokes which are very much unlike those in our dataset. If we were to redo this project with more data, we would probably choose a larger, more varied dataset.\n",
    "\n",
    "Let's actually see how well the model classifies some jokes. We used jokes and non-jokes sequences from https://www.joydeepdeb.com/misc/one-liners.html, https://www.rd.com/list/short-jokes/, https://www.reuters.com/, https://www.wired.com/ to show the results below. Of note, none of these examples are in the train or test set for our model."
   ]
  },
  {
   "cell_type": "code",
   "execution_count": 4,
   "metadata": {
    "_kg_hide-input": true,
    "execution": {
     "iopub.execute_input": "2020-12-10T15:23:00.033966Z",
     "iopub.status.busy": "2020-12-10T15:23:00.032908Z",
     "iopub.status.idle": "2020-12-10T15:23:03.463155Z",
     "shell.execute_reply": "2020-12-10T15:23:03.463628Z"
    },
    "papermill": {
     "duration": 3.476035,
     "end_time": "2020-12-10T15:23:03.463772",
     "exception": false,
     "start_time": "2020-12-10T15:22:59.987737",
     "status": "completed"
    },
    "tags": []
   },
   "outputs": [
    {
     "name": "stdout",
     "output_type": "stream",
     "text": [
      "Input Sequence: Why did the chicken cross the road? To get to the other side!\n",
      "Prediction: True - Is a joke!\n"
     ]
    }
   ],
   "source": [
    "def pretty_print_prediction(seq):\n",
    "    print(\"Input Sequence: %s\" % seq)\n",
    "    prediction = predict(seq, model)\n",
    "    print(\"Prediction: %s\" % (\"True - Is a joke!\" if prediction else \"False - Is not a joke!\"))\n",
    "    \n",
    "pretty_print_prediction(\"Why did the chicken cross the road? To get to the other side!\")"
   ]
  },
  {
   "cell_type": "markdown",
   "metadata": {
    "papermill": {
     "duration": 0.036388,
     "end_time": "2020-12-10T15:23:03.537619",
     "exception": false,
     "start_time": "2020-12-10T15:23:03.501231",
     "status": "completed"
    },
    "tags": []
   },
   "source": [
    "The model here predicted the classic \"Why did the chicken cross the road?\" joke to be humorous, which means that it can distinguish on a basic level what is humor, even if the joke isn't too complex."
   ]
  },
  {
   "cell_type": "code",
   "execution_count": 5,
   "metadata": {
    "_kg_hide-input": true,
    "execution": {
     "iopub.execute_input": "2020-12-10T15:23:03.642565Z",
     "iopub.status.busy": "2020-12-10T15:23:03.641700Z",
     "iopub.status.idle": "2020-12-10T15:23:03.723423Z",
     "shell.execute_reply": "2020-12-10T15:23:03.722294Z"
    },
    "papermill": {
     "duration": 0.14099,
     "end_time": "2020-12-10T15:23:03.723551",
     "exception": false,
     "start_time": "2020-12-10T15:23:03.582561",
     "status": "completed"
    },
    "tags": []
   },
   "outputs": [
    {
     "name": "stdout",
     "output_type": "stream",
     "text": [
      "Input Sequence: A conclusion is the part where you got tired of thinking.\n",
      "Prediction: True - Is a joke!\n"
     ]
    }
   ],
   "source": [
    "pretty_print_prediction(\"A conclusion is the part where you got tired of thinking.\")"
   ]
  },
  {
   "cell_type": "markdown",
   "metadata": {
    "papermill": {
     "duration": 0.038167,
     "end_time": "2020-12-10T15:23:03.800750",
     "exception": false,
     "start_time": "2020-12-10T15:23:03.762583",
     "status": "completed"
    },
    "tags": []
   },
   "source": [
    "Interestingly, our model can recognize sarcasm in a joke. This is a feature that is more subtle than a word pun or another more straightforward type of joke. It is good then that our model can properly understand even more subtle humor like this."
   ]
  },
  {
   "cell_type": "code",
   "execution_count": 6,
   "metadata": {
    "_kg_hide-input": true,
    "execution": {
     "iopub.execute_input": "2020-12-10T15:23:03.883778Z",
     "iopub.status.busy": "2020-12-10T15:23:03.883006Z",
     "iopub.status.idle": "2020-12-10T15:23:03.968806Z",
     "shell.execute_reply": "2020-12-10T15:23:03.970260Z"
    },
    "papermill": {
     "duration": 0.131509,
     "end_time": "2020-12-10T15:23:03.970497",
     "exception": false,
     "start_time": "2020-12-10T15:23:03.838988",
     "status": "completed"
    },
    "tags": []
   },
   "outputs": [
    {
     "name": "stdout",
     "output_type": "stream",
     "text": [
      "Input Sequence: Did you hear about the mathematician who’s afraid of negative numbers? He’ll stop at nothing to avoid them\n",
      "Prediction: True - Is a joke!\n"
     ]
    }
   ],
   "source": [
    "pretty_print_prediction(\"Did you hear about the mathematician who’s afraid of negative numbers? He’ll stop at nothing to avoid them\")"
   ]
  },
  {
   "cell_type": "markdown",
   "metadata": {
    "papermill": {
     "duration": 0.041278,
     "end_time": "2020-12-10T15:23:04.051177",
     "exception": false,
     "start_time": "2020-12-10T15:23:04.009899",
     "status": "completed"
    },
    "tags": []
   },
   "source": [
    "Two phrase jokes are also recognized as well, so the model is able to connect both phrases and recognize that there is a joke there."
   ]
  },
  {
   "cell_type": "code",
   "execution_count": 7,
   "metadata": {
    "_kg_hide-input": true,
    "execution": {
     "iopub.execute_input": "2020-12-10T15:23:04.144192Z",
     "iopub.status.busy": "2020-12-10T15:23:04.143034Z",
     "iopub.status.idle": "2020-12-10T15:23:04.227622Z",
     "shell.execute_reply": "2020-12-10T15:23:04.228275Z"
    },
    "papermill": {
     "duration": 0.136849,
     "end_time": "2020-12-10T15:23:04.228475",
     "exception": false,
     "start_time": "2020-12-10T15:23:04.091626",
     "status": "completed"
    },
    "tags": []
   },
   "outputs": [
    {
     "name": "stdout",
     "output_type": "stream",
     "text": [
      "Input Sequence: Interpol warns that COVID-19 vaccines could be targeted by criminals\n",
      "Prediction: False - Is not a joke!\n"
     ]
    }
   ],
   "source": [
    "pretty_print_prediction(\"Interpol warns that COVID-19 vaccines could be targeted by criminals\")"
   ]
  },
  {
   "cell_type": "markdown",
   "metadata": {
    "papermill": {
     "duration": 0.039654,
     "end_time": "2020-12-10T15:23:04.315180",
     "exception": false,
     "start_time": "2020-12-10T15:23:04.275526",
     "status": "completed"
    },
    "tags": []
   },
   "source": [
    "Here, it can pretty safely recognize that this headline is not a joke, distinguishing the sequence as such."
   ]
  },
  {
   "cell_type": "code",
   "execution_count": 8,
   "metadata": {
    "_kg_hide-input": true,
    "execution": {
     "iopub.execute_input": "2020-12-10T15:23:04.399264Z",
     "iopub.status.busy": "2020-12-10T15:23:04.398323Z",
     "iopub.status.idle": "2020-12-10T15:23:04.556557Z",
     "shell.execute_reply": "2020-12-10T15:23:04.555567Z"
    },
    "papermill": {
     "duration": 0.201832,
     "end_time": "2020-12-10T15:23:04.556682",
     "exception": false,
     "start_time": "2020-12-10T15:23:04.354850",
     "status": "completed"
    },
    "tags": []
   },
   "outputs": [
    {
     "name": "stdout",
     "output_type": "stream",
     "text": [
      "Input Sequence: Global equities hover near record highs as stimulus hopes build\n",
      "Prediction: False - Is not a joke!\n",
      "Input Sequence: 19 Delightful Gifts for Music Lovers and Audiophiles\n",
      "Prediction: False - Is not a joke!\n"
     ]
    }
   ],
   "source": [
    "pretty_print_prediction(\"Global equities hover near record highs as stimulus hopes build\")\n",
    "pretty_print_prediction(\"19 Delightful Gifts for Music Lovers and Audiophiles\")"
   ]
  },
  {
   "cell_type": "markdown",
   "metadata": {
    "papermill": {
     "duration": 0.039814,
     "end_time": "2020-12-10T15:23:04.638122",
     "exception": false,
     "start_time": "2020-12-10T15:23:04.598308",
     "status": "completed"
    },
    "tags": []
   },
   "source": [
    "Picking up headlines from a variety of topics (business and retail, respectively), our model is able to tell that they are clearly not humorous sequences."
   ]
  },
  {
   "cell_type": "code",
   "execution_count": 9,
   "metadata": {
    "_kg_hide-input": true,
    "execution": {
     "iopub.execute_input": "2020-12-10T15:23:04.724656Z",
     "iopub.status.busy": "2020-12-10T15:23:04.723724Z",
     "iopub.status.idle": "2020-12-10T15:23:04.808294Z",
     "shell.execute_reply": "2020-12-10T15:23:04.801201Z"
    },
    "papermill": {
     "duration": 0.130014,
     "end_time": "2020-12-10T15:23:04.808481",
     "exception": false,
     "start_time": "2020-12-10T15:23:04.678467",
     "status": "completed"
    },
    "tags": []
   },
   "outputs": [
    {
     "name": "stdout",
     "output_type": "stream",
     "text": [
      "Input Sequence: What’s the best thing about Switzerland? I don’t know, but the flag is a big plus.\n",
      "Prediction: True - Is a joke!\n"
     ]
    }
   ],
   "source": [
    "pretty_print_prediction(\"What’s the best thing about Switzerland? I don’t know, but the flag is a big plus.\")"
   ]
  },
  {
   "cell_type": "markdown",
   "metadata": {
    "papermill": {
     "duration": 0.062115,
     "end_time": "2020-12-10T15:23:04.932657",
     "exception": false,
     "start_time": "2020-12-10T15:23:04.870542",
     "status": "completed"
    },
    "tags": []
   },
   "source": [
    "The above type of joke brings up an interesting nuance where our model can possible fail. It learned to recognize that sequences that begin with \"What's\" have something to do with a joke. This is problematic, seeing when some non-humorous sequences can also begin the same way. For example:"
   ]
  },
  {
   "cell_type": "code",
   "execution_count": 10,
   "metadata": {
    "_kg_hide-input": true,
    "execution": {
     "iopub.execute_input": "2020-12-10T15:23:05.064386Z",
     "iopub.status.busy": "2020-12-10T15:23:05.063471Z",
     "iopub.status.idle": "2020-12-10T15:23:05.186191Z",
     "shell.execute_reply": "2020-12-10T15:23:05.186956Z"
    },
    "papermill": {
     "duration": 0.195345,
     "end_time": "2020-12-10T15:23:05.187161",
     "exception": false,
     "start_time": "2020-12-10T15:23:04.991816",
     "status": "completed"
    },
    "tags": []
   },
   "outputs": [
    {
     "name": "stdout",
     "output_type": "stream",
     "text": [
      "Input Sequence: What's the square root of four? It is two.\n",
      "Prediction: True - Is a joke!\n"
     ]
    }
   ],
   "source": [
    "pretty_print_prediction(\"What's the square root of four? It is two.\")"
   ]
  },
  {
   "cell_type": "markdown",
   "metadata": {
    "papermill": {
     "duration": 0.067605,
     "end_time": "2020-12-10T15:23:05.323530",
     "exception": false,
     "start_time": "2020-12-10T15:23:05.255925",
     "status": "completed"
    },
    "tags": []
   },
   "source": [
    "We see here how the model incorrectly predicted the statement above as a joke, because the first word was \"What's\". This may be due to our dataset not having a wider variety of non-joke statements that begin with \"What's\". Similarly,"
   ]
  },
  {
   "cell_type": "code",
   "execution_count": 11,
   "metadata": {
    "_kg_hide-input": true,
    "execution": {
     "iopub.execute_input": "2020-12-10T15:23:05.451854Z",
     "iopub.status.busy": "2020-12-10T15:23:05.451001Z",
     "iopub.status.idle": "2020-12-10T15:23:05.582783Z",
     "shell.execute_reply": "2020-12-10T15:23:05.582108Z"
    },
    "papermill": {
     "duration": 0.197453,
     "end_time": "2020-12-10T15:23:05.582900",
     "exception": false,
     "start_time": "2020-12-10T15:23:05.385447",
     "status": "completed"
    },
    "tags": []
   },
   "outputs": [
    {
     "name": "stdout",
     "output_type": "stream",
     "text": [
      "Input Sequence: I think pizza is great. What do you think?\n",
      "Prediction: True - Is a joke!\n"
     ]
    }
   ],
   "source": [
    "pretty_print_prediction(\"I think pizza is great. What do you think?\")"
   ]
  },
  {
   "cell_type": "markdown",
   "metadata": {
    "papermill": {
     "duration": 0.051835,
     "end_time": "2020-12-10T15:23:05.703559",
     "exception": false,
     "start_time": "2020-12-10T15:23:05.651724",
     "status": "completed"
    },
    "tags": []
   },
   "source": [
    "Such a statement as shown above is clearly not a joke (because the Michigan Data Science Team is great!), but the use of two phrases in jokes may be more common than for non-jokes.\n",
    "\n",
    "# Some Fun Predictions:"
   ]
  },
  {
   "cell_type": "code",
   "execution_count": 12,
   "metadata": {
    "_kg_hide-input": true,
    "execution": {
     "iopub.execute_input": "2020-12-10T15:23:05.800690Z",
     "iopub.status.busy": "2020-12-10T15:23:05.799802Z",
     "iopub.status.idle": "2020-12-10T15:23:05.886249Z",
     "shell.execute_reply": "2020-12-10T15:23:05.886999Z"
    },
    "papermill": {
     "duration": 0.139222,
     "end_time": "2020-12-10T15:23:05.887179",
     "exception": false,
     "start_time": "2020-12-10T15:23:05.747957",
     "status": "completed"
    },
    "tags": []
   },
   "outputs": [
    {
     "name": "stdout",
     "output_type": "stream",
     "text": [
      "Input Sequence: Tyger Tyger, burning bright, In the forests of the night; What immortal hand or eye, Could frame thy fearful symmetry?\n",
      "Prediction: False - Is not a joke!\n"
     ]
    }
   ],
   "source": [
    "pretty_print_prediction(\"Tyger Tyger, burning bright, In the forests of the night; What immortal hand or eye, Could frame thy fearful symmetry?\")"
   ]
  },
  {
   "cell_type": "markdown",
   "metadata": {
    "papermill": {
     "duration": 0.048119,
     "end_time": "2020-12-10T15:23:05.983033",
     "exception": false,
     "start_time": "2020-12-10T15:23:05.934914",
     "status": "completed"
    },
    "tags": []
   },
   "source": [
    "Out of curiosity, the prediction above is from a segment of William Blake's *The Tyger* (lines 1-4) (https://www.poetryfoundation.org/poems/43687/the-tyger). According to our model, there is no humor in this piece of poetry, but that is very much subjective so we pass no judgement here.  "
   ]
  },
  {
   "cell_type": "code",
   "execution_count": 13,
   "metadata": {
    "_kg_hide-input": true,
    "execution": {
     "iopub.execute_input": "2020-12-10T15:23:06.083038Z",
     "iopub.status.busy": "2020-12-10T15:23:06.081992Z",
     "iopub.status.idle": "2020-12-10T15:23:06.162908Z",
     "shell.execute_reply": "2020-12-10T15:23:06.163723Z"
    },
    "papermill": {
     "duration": 0.133911,
     "end_time": "2020-12-10T15:23:06.163935",
     "exception": false,
     "start_time": "2020-12-10T15:23:06.030024",
     "status": "completed"
    },
    "tags": []
   },
   "outputs": [
    {
     "name": "stdout",
     "output_type": "stream",
     "text": [
      "Input Sequence: Hey you. You're finally awake. You were trying to cross the border, right?\n",
      "Prediction: True - Is a joke!\n"
     ]
    }
   ],
   "source": [
    "pretty_print_prediction(\"Hey you. You're finally awake. You were trying to cross the border, right?\")"
   ]
  },
  {
   "cell_type": "markdown",
   "metadata": {
    "papermill": {
     "duration": 0.046466,
     "end_time": "2020-12-10T15:23:06.258926",
     "exception": false,
     "start_time": "2020-12-10T15:23:06.212460",
     "status": "completed"
    },
    "tags": []
   },
   "source": [
    "Another fun one, if you ever find yourself in the magical land of Skyrim (https://www.youtube.com/embed/15ybSy7Dqwc?start=0&end=58) , you'll enjoy the weird dialogue as much as our model does."
   ]
  },
  {
   "cell_type": "code",
   "execution_count": 14,
   "metadata": {
    "_kg_hide-input": true,
    "execution": {
     "iopub.execute_input": "2020-12-10T15:23:06.363129Z",
     "iopub.status.busy": "2020-12-10T15:23:06.362253Z",
     "iopub.status.idle": "2020-12-10T15:23:06.459099Z",
     "shell.execute_reply": "2020-12-10T15:23:06.460172Z"
    },
    "papermill": {
     "duration": 0.152348,
     "end_time": "2020-12-10T15:23:06.460404",
     "exception": false,
     "start_time": "2020-12-10T15:23:06.308056",
     "status": "completed"
    },
    "tags": []
   },
   "outputs": [
    {
     "name": "stdout",
     "output_type": "stream",
     "text": [
      "Input Sequence: Michigan Data Science Team\n",
      "Prediction: False - Is not a joke!\n"
     ]
    }
   ],
   "source": [
    "pretty_print_prediction(\"Michigan Data Science Team\")"
   ]
  },
  {
   "cell_type": "markdown",
   "metadata": {
    "papermill": {
     "duration": 0.061313,
     "end_time": "2020-12-10T15:23:06.577237",
     "exception": false,
     "start_time": "2020-12-10T15:23:06.515924",
     "status": "completed"
    },
    "tags": []
   },
   "source": [
    "They always say it is not good to question the obvious, but even our model knows that the Michigan Data Science Team is no joke."
   ]
  },
  {
   "cell_type": "markdown",
   "metadata": {
    "papermill": {
     "duration": 0.053684,
     "end_time": "2020-12-10T15:23:06.684904",
     "exception": false,
     "start_time": "2020-12-10T15:23:06.631220",
     "status": "completed"
    },
    "tags": []
   },
   "source": [
    "# Conclusion\n",
    "Our model for humor detection is quite strong, and in of itself is quite flexible and accurate at detecting humor as recognized in the popular conscience. However, the size and low variability of the dataset overfits our model to a specific set of jokes, which while are varies, do not fully and wholly encompass all forms of humor. In the future, models like this should select a vaster set of examples from many different sources, to obtain a more generalized humor detection process. Regardless, our model still does a very good job of detecting humor in sentences."
   ]
  }
 ],
 "metadata": {
  "kernelspec": {
   "display_name": "Python 3",
   "language": "python",
   "name": "python3"
  },
  "language_info": {
   "codemirror_mode": {
    "name": "ipython",
    "version": 3
   },
   "file_extension": ".py",
   "mimetype": "text/x-python",
   "name": "python",
   "nbconvert_exporter": "python",
   "pygments_lexer": "ipython3",
   "version": "3.7.6"
  },
  "papermill": {
   "duration": 113.88008,
   "end_time": "2020-12-10T15:23:08.748344",
   "environment_variables": {},
   "exception": null,
   "input_path": "__notebook__.ipynb",
   "output_path": "__notebook__.ipynb",
   "parameters": {},
   "start_time": "2020-12-10T15:21:14.868264",
   "version": "2.1.0"
  },
  "widgets": {
   "application/vnd.jupyter.widget-state+json": {
    "state": {
     "0556dd4f2e734336904701a81229793e": {
      "model_module": "@jupyter-widgets/base",
      "model_module_version": "1.2.0",
      "model_name": "LayoutModel",
      "state": {
       "_model_module": "@jupyter-widgets/base",
       "_model_module_version": "1.2.0",
       "_model_name": "LayoutModel",
       "_view_count": null,
       "_view_module": "@jupyter-widgets/base",
       "_view_module_version": "1.2.0",
       "_view_name": "LayoutView",
       "align_content": null,
       "align_items": null,
       "align_self": null,
       "border": null,
       "bottom": null,
       "display": null,
       "flex": null,
       "flex_flow": null,
       "grid_area": null,
       "grid_auto_columns": null,
       "grid_auto_flow": null,
       "grid_auto_rows": null,
       "grid_column": null,
       "grid_gap": null,
       "grid_row": null,
       "grid_template_areas": null,
       "grid_template_columns": null,
       "grid_template_rows": null,
       "height": null,
       "justify_content": null,
       "justify_items": null,
       "left": null,
       "margin": null,
       "max_height": null,
       "max_width": null,
       "min_height": null,
       "min_width": null,
       "object_fit": null,
       "object_position": null,
       "order": null,
       "overflow": null,
       "overflow_x": null,
       "overflow_y": null,
       "padding": null,
       "right": null,
       "top": null,
       "visibility": null,
       "width": null
      }
     },
     "0bd131e823e64dd485f4d32a9ede9fbd": {
      "model_module": "@jupyter-widgets/controls",
      "model_module_version": "1.5.0",
      "model_name": "HTMLModel",
      "state": {
       "_dom_classes": [],
       "_model_module": "@jupyter-widgets/controls",
       "_model_module_version": "1.5.0",
       "_model_name": "HTMLModel",
       "_view_count": null,
       "_view_module": "@jupyter-widgets/controls",
       "_view_module_version": "1.5.0",
       "_view_name": "HTMLView",
       "description": "",
       "description_tooltip": null,
       "layout": "IPY_MODEL_ee42033608e64f518571fa0e5ecb62db",
       "placeholder": "​",
       "style": "IPY_MODEL_8ca2072ecec34bf780d88c49d64ca6ac",
       "value": " 536M/536M [00:36&lt;00:00, 14.7MB/s]"
      }
     },
     "1af66621368e45b7a6fd03998b2e9abf": {
      "model_module": "@jupyter-widgets/controls",
      "model_module_version": "1.5.0",
      "model_name": "FloatProgressModel",
      "state": {
       "_dom_classes": [],
       "_model_module": "@jupyter-widgets/controls",
       "_model_module_version": "1.5.0",
       "_model_name": "FloatProgressModel",
       "_view_count": null,
       "_view_module": "@jupyter-widgets/controls",
       "_view_module_version": "1.5.0",
       "_view_name": "ProgressView",
       "bar_style": "success",
       "description": "Downloading: 100%",
       "description_tooltip": null,
       "layout": "IPY_MODEL_0556dd4f2e734336904701a81229793e",
       "max": 466062.0,
       "min": 0.0,
       "orientation": "horizontal",
       "style": "IPY_MODEL_f0f4d888316a437c943dee0cea1a401c",
       "value": 466062.0
      }
     },
     "1c3987dbb0f2419eb542a37e3130a107": {
      "model_module": "@jupyter-widgets/base",
      "model_module_version": "1.2.0",
      "model_name": "LayoutModel",
      "state": {
       "_model_module": "@jupyter-widgets/base",
       "_model_module_version": "1.2.0",
       "_model_name": "LayoutModel",
       "_view_count": null,
       "_view_module": "@jupyter-widgets/base",
       "_view_module_version": "1.2.0",
       "_view_name": "LayoutView",
       "align_content": null,
       "align_items": null,
       "align_self": null,
       "border": null,
       "bottom": null,
       "display": null,
       "flex": null,
       "flex_flow": null,
       "grid_area": null,
       "grid_auto_columns": null,
       "grid_auto_flow": null,
       "grid_auto_rows": null,
       "grid_column": null,
       "grid_gap": null,
       "grid_row": null,
       "grid_template_areas": null,
       "grid_template_columns": null,
       "grid_template_rows": null,
       "height": null,
       "justify_content": null,
       "justify_items": null,
       "left": null,
       "margin": null,
       "max_height": null,
       "max_width": null,
       "min_height": null,
       "min_width": null,
       "object_fit": null,
       "object_position": null,
       "order": null,
       "overflow": null,
       "overflow_x": null,
       "overflow_y": null,
       "padding": null,
       "right": null,
       "top": null,
       "visibility": null,
       "width": null
      }
     },
     "1df12ce4c5994918b532710b4d55d36d": {
      "model_module": "@jupyter-widgets/controls",
      "model_module_version": "1.5.0",
      "model_name": "HTMLModel",
      "state": {
       "_dom_classes": [],
       "_model_module": "@jupyter-widgets/controls",
       "_model_module_version": "1.5.0",
       "_model_name": "HTMLModel",
       "_view_count": null,
       "_view_module": "@jupyter-widgets/controls",
       "_view_module_version": "1.5.0",
       "_view_name": "HTMLView",
       "description": "",
       "description_tooltip": null,
       "layout": "IPY_MODEL_4dccaaa386f0423496ba0d32a7fcdf6a",
       "placeholder": "​",
       "style": "IPY_MODEL_da1f6cfd9f8940be83de547bc679fed5",
       "value": " 232k/232k [00:01&lt;00:00, 129kB/s]"
      }
     },
     "1f1bf05d368c43f8b7efbaaf5dfc2c90": {
      "model_module": "@jupyter-widgets/base",
      "model_module_version": "1.2.0",
      "model_name": "LayoutModel",
      "state": {
       "_model_module": "@jupyter-widgets/base",
       "_model_module_version": "1.2.0",
       "_model_name": "LayoutModel",
       "_view_count": null,
       "_view_module": "@jupyter-widgets/base",
       "_view_module_version": "1.2.0",
       "_view_name": "LayoutView",
       "align_content": null,
       "align_items": null,
       "align_self": null,
       "border": null,
       "bottom": null,
       "display": null,
       "flex": null,
       "flex_flow": null,
       "grid_area": null,
       "grid_auto_columns": null,
       "grid_auto_flow": null,
       "grid_auto_rows": null,
       "grid_column": null,
       "grid_gap": null,
       "grid_row": null,
       "grid_template_areas": null,
       "grid_template_columns": null,
       "grid_template_rows": null,
       "height": null,
       "justify_content": null,
       "justify_items": null,
       "left": null,
       "margin": null,
       "max_height": null,
       "max_width": null,
       "min_height": null,
       "min_width": null,
       "object_fit": null,
       "object_position": null,
       "order": null,
       "overflow": null,
       "overflow_x": null,
       "overflow_y": null,
       "padding": null,
       "right": null,
       "top": null,
       "visibility": null,
       "width": null
      }
     },
     "25cbb70b03c64eedabd2689d5582a60c": {
      "model_module": "@jupyter-widgets/controls",
      "model_module_version": "1.5.0",
      "model_name": "HTMLModel",
      "state": {
       "_dom_classes": [],
       "_model_module": "@jupyter-widgets/controls",
       "_model_module_version": "1.5.0",
       "_model_name": "HTMLModel",
       "_view_count": null,
       "_view_module": "@jupyter-widgets/controls",
       "_view_module_version": "1.5.0",
       "_view_name": "HTMLView",
       "description": "",
       "description_tooltip": null,
       "layout": "IPY_MODEL_1f1bf05d368c43f8b7efbaaf5dfc2c90",
       "placeholder": "​",
       "style": "IPY_MODEL_d3e4fd7ca90b43b2b552ebff1722be79",
       "value": " 433/433 [00:00&lt;00:00, 1.72kB/s]"
      }
     },
     "2cabaa4b1cc541ada3072daa9751281e": {
      "model_module": "@jupyter-widgets/controls",
      "model_module_version": "1.5.0",
      "model_name": "HTMLModel",
      "state": {
       "_dom_classes": [],
       "_model_module": "@jupyter-widgets/controls",
       "_model_module_version": "1.5.0",
       "_model_name": "HTMLModel",
       "_view_count": null,
       "_view_module": "@jupyter-widgets/controls",
       "_view_module_version": "1.5.0",
       "_view_name": "HTMLView",
       "description": "",
       "description_tooltip": null,
       "layout": "IPY_MODEL_97a0285be7754597849d1f771b8bc93b",
       "placeholder": "​",
       "style": "IPY_MODEL_4fe8ad4a5fbe4d618381333af6fb8935",
       "value": " 466k/466k [00:00&lt;00:00, 500kB/s]"
      }
     },
     "328a84f33b88402baccee15230b2d182": {
      "model_module": "@jupyter-widgets/controls",
      "model_module_version": "1.5.0",
      "model_name": "FloatProgressModel",
      "state": {
       "_dom_classes": [],
       "_model_module": "@jupyter-widgets/controls",
       "_model_module_version": "1.5.0",
       "_model_name": "FloatProgressModel",
       "_view_count": null,
       "_view_module": "@jupyter-widgets/controls",
       "_view_module_version": "1.5.0",
       "_view_name": "ProgressView",
       "bar_style": "success",
       "description": "Downloading: 100%",
       "description_tooltip": null,
       "layout": "IPY_MODEL_1c3987dbb0f2419eb542a37e3130a107",
       "max": 536063208.0,
       "min": 0.0,
       "orientation": "horizontal",
       "style": "IPY_MODEL_72ccb45c412540b08180dfee965d44de",
       "value": 536063208.0
      }
     },
     "3c046403bbe342d58fe19416ae49152b": {
      "model_module": "@jupyter-widgets/controls",
      "model_module_version": "1.5.0",
      "model_name": "FloatProgressModel",
      "state": {
       "_dom_classes": [],
       "_model_module": "@jupyter-widgets/controls",
       "_model_module_version": "1.5.0",
       "_model_name": "FloatProgressModel",
       "_view_count": null,
       "_view_module": "@jupyter-widgets/controls",
       "_view_module_version": "1.5.0",
       "_view_name": "ProgressView",
       "bar_style": "success",
       "description": "Downloading: 100%",
       "description_tooltip": null,
       "layout": "IPY_MODEL_ffe4964e202c4d909987771b10146511",
       "max": 433.0,
       "min": 0.0,
       "orientation": "horizontal",
       "style": "IPY_MODEL_8210b92cd041455686a87e5eb4e1cac5",
       "value": 433.0
      }
     },
     "3c49518e8a4a4e2ba87ea2ac00bf28a6": {
      "model_module": "@jupyter-widgets/controls",
      "model_module_version": "1.5.0",
      "model_name": "HBoxModel",
      "state": {
       "_dom_classes": [],
       "_model_module": "@jupyter-widgets/controls",
       "_model_module_version": "1.5.0",
       "_model_name": "HBoxModel",
       "_view_count": null,
       "_view_module": "@jupyter-widgets/controls",
       "_view_module_version": "1.5.0",
       "_view_name": "HBoxView",
       "box_style": "",
       "children": [
        "IPY_MODEL_eaf38431f9c440d9a422a478662c0171",
        "IPY_MODEL_1df12ce4c5994918b532710b4d55d36d"
       ],
       "layout": "IPY_MODEL_927cf100a5e6407c95336ee05b425fda"
      }
     },
     "3e89a8ea9e5a4e098d14efd94af2a23d": {
      "model_module": "@jupyter-widgets/controls",
      "model_module_version": "1.5.0",
      "model_name": "ProgressStyleModel",
      "state": {
       "_model_module": "@jupyter-widgets/controls",
       "_model_module_version": "1.5.0",
       "_model_name": "ProgressStyleModel",
       "_view_count": null,
       "_view_module": "@jupyter-widgets/base",
       "_view_module_version": "1.2.0",
       "_view_name": "StyleView",
       "bar_color": null,
       "description_width": "initial"
      }
     },
     "4dccaaa386f0423496ba0d32a7fcdf6a": {
      "model_module": "@jupyter-widgets/base",
      "model_module_version": "1.2.0",
      "model_name": "LayoutModel",
      "state": {
       "_model_module": "@jupyter-widgets/base",
       "_model_module_version": "1.2.0",
       "_model_name": "LayoutModel",
       "_view_count": null,
       "_view_module": "@jupyter-widgets/base",
       "_view_module_version": "1.2.0",
       "_view_name": "LayoutView",
       "align_content": null,
       "align_items": null,
       "align_self": null,
       "border": null,
       "bottom": null,
       "display": null,
       "flex": null,
       "flex_flow": null,
       "grid_area": null,
       "grid_auto_columns": null,
       "grid_auto_flow": null,
       "grid_auto_rows": null,
       "grid_column": null,
       "grid_gap": null,
       "grid_row": null,
       "grid_template_areas": null,
       "grid_template_columns": null,
       "grid_template_rows": null,
       "height": null,
       "justify_content": null,
       "justify_items": null,
       "left": null,
       "margin": null,
       "max_height": null,
       "max_width": null,
       "min_height": null,
       "min_width": null,
       "object_fit": null,
       "object_position": null,
       "order": null,
       "overflow": null,
       "overflow_x": null,
       "overflow_y": null,
       "padding": null,
       "right": null,
       "top": null,
       "visibility": null,
       "width": null
      }
     },
     "4fe8ad4a5fbe4d618381333af6fb8935": {
      "model_module": "@jupyter-widgets/controls",
      "model_module_version": "1.5.0",
      "model_name": "DescriptionStyleModel",
      "state": {
       "_model_module": "@jupyter-widgets/controls",
       "_model_module_version": "1.5.0",
       "_model_name": "DescriptionStyleModel",
       "_view_count": null,
       "_view_module": "@jupyter-widgets/base",
       "_view_module_version": "1.2.0",
       "_view_name": "StyleView",
       "description_width": ""
      }
     },
     "55d3dd8831114dfc86164e2bd7fa1811": {
      "model_module": "@jupyter-widgets/controls",
      "model_module_version": "1.5.0",
      "model_name": "HBoxModel",
      "state": {
       "_dom_classes": [],
       "_model_module": "@jupyter-widgets/controls",
       "_model_module_version": "1.5.0",
       "_model_name": "HBoxModel",
       "_view_count": null,
       "_view_module": "@jupyter-widgets/controls",
       "_view_module_version": "1.5.0",
       "_view_name": "HBoxView",
       "box_style": "",
       "children": [
        "IPY_MODEL_1af66621368e45b7a6fd03998b2e9abf",
        "IPY_MODEL_2cabaa4b1cc541ada3072daa9751281e"
       ],
       "layout": "IPY_MODEL_88fa6369b06c4ad0b8d52055ab45f293"
      }
     },
     "5fe06ec14a0e40cf8c81d2975a01c4fc": {
      "model_module": "@jupyter-widgets/controls",
      "model_module_version": "1.5.0",
      "model_name": "HBoxModel",
      "state": {
       "_dom_classes": [],
       "_model_module": "@jupyter-widgets/controls",
       "_model_module_version": "1.5.0",
       "_model_name": "HBoxModel",
       "_view_count": null,
       "_view_module": "@jupyter-widgets/controls",
       "_view_module_version": "1.5.0",
       "_view_name": "HBoxView",
       "box_style": "",
       "children": [
        "IPY_MODEL_328a84f33b88402baccee15230b2d182",
        "IPY_MODEL_0bd131e823e64dd485f4d32a9ede9fbd"
       ],
       "layout": "IPY_MODEL_f16f4cdfd407433d951e42dc04a726ff"
      }
     },
     "72ccb45c412540b08180dfee965d44de": {
      "model_module": "@jupyter-widgets/controls",
      "model_module_version": "1.5.0",
      "model_name": "ProgressStyleModel",
      "state": {
       "_model_module": "@jupyter-widgets/controls",
       "_model_module_version": "1.5.0",
       "_model_name": "ProgressStyleModel",
       "_view_count": null,
       "_view_module": "@jupyter-widgets/base",
       "_view_module_version": "1.2.0",
       "_view_name": "StyleView",
       "bar_color": null,
       "description_width": "initial"
      }
     },
     "8210b92cd041455686a87e5eb4e1cac5": {
      "model_module": "@jupyter-widgets/controls",
      "model_module_version": "1.5.0",
      "model_name": "ProgressStyleModel",
      "state": {
       "_model_module": "@jupyter-widgets/controls",
       "_model_module_version": "1.5.0",
       "_model_name": "ProgressStyleModel",
       "_view_count": null,
       "_view_module": "@jupyter-widgets/base",
       "_view_module_version": "1.2.0",
       "_view_name": "StyleView",
       "bar_color": null,
       "description_width": "initial"
      }
     },
     "88fa6369b06c4ad0b8d52055ab45f293": {
      "model_module": "@jupyter-widgets/base",
      "model_module_version": "1.2.0",
      "model_name": "LayoutModel",
      "state": {
       "_model_module": "@jupyter-widgets/base",
       "_model_module_version": "1.2.0",
       "_model_name": "LayoutModel",
       "_view_count": null,
       "_view_module": "@jupyter-widgets/base",
       "_view_module_version": "1.2.0",
       "_view_name": "LayoutView",
       "align_content": null,
       "align_items": null,
       "align_self": null,
       "border": null,
       "bottom": null,
       "display": null,
       "flex": null,
       "flex_flow": null,
       "grid_area": null,
       "grid_auto_columns": null,
       "grid_auto_flow": null,
       "grid_auto_rows": null,
       "grid_column": null,
       "grid_gap": null,
       "grid_row": null,
       "grid_template_areas": null,
       "grid_template_columns": null,
       "grid_template_rows": null,
       "height": null,
       "justify_content": null,
       "justify_items": null,
       "left": null,
       "margin": null,
       "max_height": null,
       "max_width": null,
       "min_height": null,
       "min_width": null,
       "object_fit": null,
       "object_position": null,
       "order": null,
       "overflow": null,
       "overflow_x": null,
       "overflow_y": null,
       "padding": null,
       "right": null,
       "top": null,
       "visibility": null,
       "width": null
      }
     },
     "8ca2072ecec34bf780d88c49d64ca6ac": {
      "model_module": "@jupyter-widgets/controls",
      "model_module_version": "1.5.0",
      "model_name": "DescriptionStyleModel",
      "state": {
       "_model_module": "@jupyter-widgets/controls",
       "_model_module_version": "1.5.0",
       "_model_name": "DescriptionStyleModel",
       "_view_count": null,
       "_view_module": "@jupyter-widgets/base",
       "_view_module_version": "1.2.0",
       "_view_name": "StyleView",
       "description_width": ""
      }
     },
     "927cf100a5e6407c95336ee05b425fda": {
      "model_module": "@jupyter-widgets/base",
      "model_module_version": "1.2.0",
      "model_name": "LayoutModel",
      "state": {
       "_model_module": "@jupyter-widgets/base",
       "_model_module_version": "1.2.0",
       "_model_name": "LayoutModel",
       "_view_count": null,
       "_view_module": "@jupyter-widgets/base",
       "_view_module_version": "1.2.0",
       "_view_name": "LayoutView",
       "align_content": null,
       "align_items": null,
       "align_self": null,
       "border": null,
       "bottom": null,
       "display": null,
       "flex": null,
       "flex_flow": null,
       "grid_area": null,
       "grid_auto_columns": null,
       "grid_auto_flow": null,
       "grid_auto_rows": null,
       "grid_column": null,
       "grid_gap": null,
       "grid_row": null,
       "grid_template_areas": null,
       "grid_template_columns": null,
       "grid_template_rows": null,
       "height": null,
       "justify_content": null,
       "justify_items": null,
       "left": null,
       "margin": null,
       "max_height": null,
       "max_width": null,
       "min_height": null,
       "min_width": null,
       "object_fit": null,
       "object_position": null,
       "order": null,
       "overflow": null,
       "overflow_x": null,
       "overflow_y": null,
       "padding": null,
       "right": null,
       "top": null,
       "visibility": null,
       "width": null
      }
     },
     "96e712fa363b4c018f2d1608e77e0485": {
      "model_module": "@jupyter-widgets/base",
      "model_module_version": "1.2.0",
      "model_name": "LayoutModel",
      "state": {
       "_model_module": "@jupyter-widgets/base",
       "_model_module_version": "1.2.0",
       "_model_name": "LayoutModel",
       "_view_count": null,
       "_view_module": "@jupyter-widgets/base",
       "_view_module_version": "1.2.0",
       "_view_name": "LayoutView",
       "align_content": null,
       "align_items": null,
       "align_self": null,
       "border": null,
       "bottom": null,
       "display": null,
       "flex": null,
       "flex_flow": null,
       "grid_area": null,
       "grid_auto_columns": null,
       "grid_auto_flow": null,
       "grid_auto_rows": null,
       "grid_column": null,
       "grid_gap": null,
       "grid_row": null,
       "grid_template_areas": null,
       "grid_template_columns": null,
       "grid_template_rows": null,
       "height": null,
       "justify_content": null,
       "justify_items": null,
       "left": null,
       "margin": null,
       "max_height": null,
       "max_width": null,
       "min_height": null,
       "min_width": null,
       "object_fit": null,
       "object_position": null,
       "order": null,
       "overflow": null,
       "overflow_x": null,
       "overflow_y": null,
       "padding": null,
       "right": null,
       "top": null,
       "visibility": null,
       "width": null
      }
     },
     "97a0285be7754597849d1f771b8bc93b": {
      "model_module": "@jupyter-widgets/base",
      "model_module_version": "1.2.0",
      "model_name": "LayoutModel",
      "state": {
       "_model_module": "@jupyter-widgets/base",
       "_model_module_version": "1.2.0",
       "_model_name": "LayoutModel",
       "_view_count": null,
       "_view_module": "@jupyter-widgets/base",
       "_view_module_version": "1.2.0",
       "_view_name": "LayoutView",
       "align_content": null,
       "align_items": null,
       "align_self": null,
       "border": null,
       "bottom": null,
       "display": null,
       "flex": null,
       "flex_flow": null,
       "grid_area": null,
       "grid_auto_columns": null,
       "grid_auto_flow": null,
       "grid_auto_rows": null,
       "grid_column": null,
       "grid_gap": null,
       "grid_row": null,
       "grid_template_areas": null,
       "grid_template_columns": null,
       "grid_template_rows": null,
       "height": null,
       "justify_content": null,
       "justify_items": null,
       "left": null,
       "margin": null,
       "max_height": null,
       "max_width": null,
       "min_height": null,
       "min_width": null,
       "object_fit": null,
       "object_position": null,
       "order": null,
       "overflow": null,
       "overflow_x": null,
       "overflow_y": null,
       "padding": null,
       "right": null,
       "top": null,
       "visibility": null,
       "width": null
      }
     },
     "a1b7b1efaaac4cbabf0722cb997f7a70": {
      "model_module": "@jupyter-widgets/controls",
      "model_module_version": "1.5.0",
      "model_name": "HBoxModel",
      "state": {
       "_dom_classes": [],
       "_model_module": "@jupyter-widgets/controls",
       "_model_module_version": "1.5.0",
       "_model_name": "HBoxModel",
       "_view_count": null,
       "_view_module": "@jupyter-widgets/controls",
       "_view_module_version": "1.5.0",
       "_view_name": "HBoxView",
       "box_style": "",
       "children": [
        "IPY_MODEL_3c046403bbe342d58fe19416ae49152b",
        "IPY_MODEL_25cbb70b03c64eedabd2689d5582a60c"
       ],
       "layout": "IPY_MODEL_db041f8a42784bb3841b33ff39179c5f"
      }
     },
     "d3e4fd7ca90b43b2b552ebff1722be79": {
      "model_module": "@jupyter-widgets/controls",
      "model_module_version": "1.5.0",
      "model_name": "DescriptionStyleModel",
      "state": {
       "_model_module": "@jupyter-widgets/controls",
       "_model_module_version": "1.5.0",
       "_model_name": "DescriptionStyleModel",
       "_view_count": null,
       "_view_module": "@jupyter-widgets/base",
       "_view_module_version": "1.2.0",
       "_view_name": "StyleView",
       "description_width": ""
      }
     },
     "da1f6cfd9f8940be83de547bc679fed5": {
      "model_module": "@jupyter-widgets/controls",
      "model_module_version": "1.5.0",
      "model_name": "DescriptionStyleModel",
      "state": {
       "_model_module": "@jupyter-widgets/controls",
       "_model_module_version": "1.5.0",
       "_model_name": "DescriptionStyleModel",
       "_view_count": null,
       "_view_module": "@jupyter-widgets/base",
       "_view_module_version": "1.2.0",
       "_view_name": "StyleView",
       "description_width": ""
      }
     },
     "db041f8a42784bb3841b33ff39179c5f": {
      "model_module": "@jupyter-widgets/base",
      "model_module_version": "1.2.0",
      "model_name": "LayoutModel",
      "state": {
       "_model_module": "@jupyter-widgets/base",
       "_model_module_version": "1.2.0",
       "_model_name": "LayoutModel",
       "_view_count": null,
       "_view_module": "@jupyter-widgets/base",
       "_view_module_version": "1.2.0",
       "_view_name": "LayoutView",
       "align_content": null,
       "align_items": null,
       "align_self": null,
       "border": null,
       "bottom": null,
       "display": null,
       "flex": null,
       "flex_flow": null,
       "grid_area": null,
       "grid_auto_columns": null,
       "grid_auto_flow": null,
       "grid_auto_rows": null,
       "grid_column": null,
       "grid_gap": null,
       "grid_row": null,
       "grid_template_areas": null,
       "grid_template_columns": null,
       "grid_template_rows": null,
       "height": null,
       "justify_content": null,
       "justify_items": null,
       "left": null,
       "margin": null,
       "max_height": null,
       "max_width": null,
       "min_height": null,
       "min_width": null,
       "object_fit": null,
       "object_position": null,
       "order": null,
       "overflow": null,
       "overflow_x": null,
       "overflow_y": null,
       "padding": null,
       "right": null,
       "top": null,
       "visibility": null,
       "width": null
      }
     },
     "eaf38431f9c440d9a422a478662c0171": {
      "model_module": "@jupyter-widgets/controls",
      "model_module_version": "1.5.0",
      "model_name": "FloatProgressModel",
      "state": {
       "_dom_classes": [],
       "_model_module": "@jupyter-widgets/controls",
       "_model_module_version": "1.5.0",
       "_model_name": "FloatProgressModel",
       "_view_count": null,
       "_view_module": "@jupyter-widgets/controls",
       "_view_module_version": "1.5.0",
       "_view_name": "ProgressView",
       "bar_style": "success",
       "description": "Downloading: 100%",
       "description_tooltip": null,
       "layout": "IPY_MODEL_96e712fa363b4c018f2d1608e77e0485",
       "max": 231508.0,
       "min": 0.0,
       "orientation": "horizontal",
       "style": "IPY_MODEL_3e89a8ea9e5a4e098d14efd94af2a23d",
       "value": 231508.0
      }
     },
     "ee42033608e64f518571fa0e5ecb62db": {
      "model_module": "@jupyter-widgets/base",
      "model_module_version": "1.2.0",
      "model_name": "LayoutModel",
      "state": {
       "_model_module": "@jupyter-widgets/base",
       "_model_module_version": "1.2.0",
       "_model_name": "LayoutModel",
       "_view_count": null,
       "_view_module": "@jupyter-widgets/base",
       "_view_module_version": "1.2.0",
       "_view_name": "LayoutView",
       "align_content": null,
       "align_items": null,
       "align_self": null,
       "border": null,
       "bottom": null,
       "display": null,
       "flex": null,
       "flex_flow": null,
       "grid_area": null,
       "grid_auto_columns": null,
       "grid_auto_flow": null,
       "grid_auto_rows": null,
       "grid_column": null,
       "grid_gap": null,
       "grid_row": null,
       "grid_template_areas": null,
       "grid_template_columns": null,
       "grid_template_rows": null,
       "height": null,
       "justify_content": null,
       "justify_items": null,
       "left": null,
       "margin": null,
       "max_height": null,
       "max_width": null,
       "min_height": null,
       "min_width": null,
       "object_fit": null,
       "object_position": null,
       "order": null,
       "overflow": null,
       "overflow_x": null,
       "overflow_y": null,
       "padding": null,
       "right": null,
       "top": null,
       "visibility": null,
       "width": null
      }
     },
     "f0f4d888316a437c943dee0cea1a401c": {
      "model_module": "@jupyter-widgets/controls",
      "model_module_version": "1.5.0",
      "model_name": "ProgressStyleModel",
      "state": {
       "_model_module": "@jupyter-widgets/controls",
       "_model_module_version": "1.5.0",
       "_model_name": "ProgressStyleModel",
       "_view_count": null,
       "_view_module": "@jupyter-widgets/base",
       "_view_module_version": "1.2.0",
       "_view_name": "StyleView",
       "bar_color": null,
       "description_width": "initial"
      }
     },
     "f16f4cdfd407433d951e42dc04a726ff": {
      "model_module": "@jupyter-widgets/base",
      "model_module_version": "1.2.0",
      "model_name": "LayoutModel",
      "state": {
       "_model_module": "@jupyter-widgets/base",
       "_model_module_version": "1.2.0",
       "_model_name": "LayoutModel",
       "_view_count": null,
       "_view_module": "@jupyter-widgets/base",
       "_view_module_version": "1.2.0",
       "_view_name": "LayoutView",
       "align_content": null,
       "align_items": null,
       "align_self": null,
       "border": null,
       "bottom": null,
       "display": null,
       "flex": null,
       "flex_flow": null,
       "grid_area": null,
       "grid_auto_columns": null,
       "grid_auto_flow": null,
       "grid_auto_rows": null,
       "grid_column": null,
       "grid_gap": null,
       "grid_row": null,
       "grid_template_areas": null,
       "grid_template_columns": null,
       "grid_template_rows": null,
       "height": null,
       "justify_content": null,
       "justify_items": null,
       "left": null,
       "margin": null,
       "max_height": null,
       "max_width": null,
       "min_height": null,
       "min_width": null,
       "object_fit": null,
       "object_position": null,
       "order": null,
       "overflow": null,
       "overflow_x": null,
       "overflow_y": null,
       "padding": null,
       "right": null,
       "top": null,
       "visibility": null,
       "width": null
      }
     },
     "ffe4964e202c4d909987771b10146511": {
      "model_module": "@jupyter-widgets/base",
      "model_module_version": "1.2.0",
      "model_name": "LayoutModel",
      "state": {
       "_model_module": "@jupyter-widgets/base",
       "_model_module_version": "1.2.0",
       "_model_name": "LayoutModel",
       "_view_count": null,
       "_view_module": "@jupyter-widgets/base",
       "_view_module_version": "1.2.0",
       "_view_name": "LayoutView",
       "align_content": null,
       "align_items": null,
       "align_self": null,
       "border": null,
       "bottom": null,
       "display": null,
       "flex": null,
       "flex_flow": null,
       "grid_area": null,
       "grid_auto_columns": null,
       "grid_auto_flow": null,
       "grid_auto_rows": null,
       "grid_column": null,
       "grid_gap": null,
       "grid_row": null,
       "grid_template_areas": null,
       "grid_template_columns": null,
       "grid_template_rows": null,
       "height": null,
       "justify_content": null,
       "justify_items": null,
       "left": null,
       "margin": null,
       "max_height": null,
       "max_width": null,
       "min_height": null,
       "min_width": null,
       "object_fit": null,
       "object_position": null,
       "order": null,
       "overflow": null,
       "overflow_x": null,
       "overflow_y": null,
       "padding": null,
       "right": null,
       "top": null,
       "visibility": null,
       "width": null
      }
     }
    },
    "version_major": 2,
    "version_minor": 0
   }
  }
 },
 "nbformat": 4,
 "nbformat_minor": 4
}
