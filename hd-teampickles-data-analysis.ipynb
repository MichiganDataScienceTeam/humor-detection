{
 "cells": [
  {
   "cell_type": "code",
   "execution_count": 1,
   "metadata": {
    "_kg_hide-input": true,
    "_kg_hide-output": true,
    "execution": {
     "iopub.execute_input": "2020-12-02T02:54:51.165277Z",
     "iopub.status.busy": "2020-12-02T02:54:51.164338Z",
     "iopub.status.idle": "2020-12-02T02:55:02.860072Z",
     "shell.execute_reply": "2020-12-02T02:55:02.859307Z"
    },
    "papermill": {
     "duration": 11.733758,
     "end_time": "2020-12-02T02:55:02.860257",
     "exception": false,
     "start_time": "2020-12-02T02:54:51.126499",
     "status": "completed"
    },
    "tags": []
   },
   "outputs": [
    {
     "name": "stdout",
     "output_type": "stream",
     "text": [
      "Collecting seaborn\r\n",
      "  Downloading seaborn-0.11.0-py3-none-any.whl (283 kB)\r\n",
      "\u001b[K     |████████████████████████████████| 283 kB 1.3 MB/s \r\n",
      "\u001b[?25hRequirement already satisfied, skipping upgrade: matplotlib>=2.2 in /opt/conda/lib/python3.7/site-packages (from seaborn) (3.2.1)\r\n",
      "Requirement already satisfied, skipping upgrade: numpy>=1.15 in /opt/conda/lib/python3.7/site-packages (from seaborn) (1.18.5)\r\n",
      "Requirement already satisfied, skipping upgrade: scipy>=1.0 in /opt/conda/lib/python3.7/site-packages (from seaborn) (1.4.1)\r\n",
      "Requirement already satisfied, skipping upgrade: pandas>=0.23 in /opt/conda/lib/python3.7/site-packages (from seaborn) (1.1.4)\r\n",
      "Requirement already satisfied, skipping upgrade: kiwisolver>=1.0.1 in /opt/conda/lib/python3.7/site-packages (from matplotlib>=2.2->seaborn) (1.2.0)\r\n",
      "Requirement already satisfied, skipping upgrade: cycler>=0.10 in /opt/conda/lib/python3.7/site-packages (from matplotlib>=2.2->seaborn) (0.10.0)\r\n",
      "Requirement already satisfied, skipping upgrade: pyparsing!=2.0.4,!=2.1.2,!=2.1.6,>=2.0.1 in /opt/conda/lib/python3.7/site-packages (from matplotlib>=2.2->seaborn) (2.4.7)\r\n",
      "Requirement already satisfied, skipping upgrade: python-dateutil>=2.1 in /opt/conda/lib/python3.7/site-packages (from matplotlib>=2.2->seaborn) (2.8.1)\r\n",
      "Requirement already satisfied, skipping upgrade: pytz>=2017.2 in /opt/conda/lib/python3.7/site-packages (from pandas>=0.23->seaborn) (2019.3)\r\n",
      "Requirement already satisfied, skipping upgrade: six in /opt/conda/lib/python3.7/site-packages (from cycler>=0.10->matplotlib>=2.2->seaborn) (1.14.0)\r\n",
      "Installing collected packages: seaborn\r\n",
      "  Attempting uninstall: seaborn\r\n",
      "    Found existing installation: seaborn 0.10.0\r\n",
      "    Uninstalling seaborn-0.10.0:\r\n",
      "      Successfully uninstalled seaborn-0.10.0\r\n",
      "Successfully installed seaborn-0.11.0\r\n",
      "\u001b[33mWARNING: You are using pip version 20.2.4; however, version 20.3 is available.\r\n",
      "You should consider upgrading via the '/opt/conda/bin/python3.7 -m pip install --upgrade pip' command.\u001b[0m\r\n"
     ]
    }
   ],
   "source": [
    "!pip install --upgrade seaborn # just want some nice plots! (update seaborn to use newest version)"
   ]
  },
  {
   "cell_type": "code",
   "execution_count": 2,
   "metadata": {
    "_cell_guid": "b1076dfc-b9ad-4769-8c92-a6c4dae69d19",
    "_kg_hide-input": true,
    "_kg_hide-output": true,
    "_uuid": "8f2839f25d086af736a60e9eeb907d3b93b6e0e5",
    "execution": {
     "iopub.execute_input": "2020-12-02T02:55:02.936901Z",
     "iopub.status.busy": "2020-12-02T02:55:02.935685Z",
     "iopub.status.idle": "2020-12-02T02:55:05.050803Z",
     "shell.execute_reply": "2020-12-02T02:55:05.050096Z"
    },
    "papermill": {
     "duration": 2.156531,
     "end_time": "2020-12-02T02:55:05.050947",
     "exception": false,
     "start_time": "2020-12-02T02:55:02.894416",
     "status": "completed"
    },
    "tags": []
   },
   "outputs": [],
   "source": [
    "import numpy as np # linear algebra\n",
    "import pandas as pd # data processing, CSV file I/O (e.g. pd.read_csv)\n",
    "import matplotlib.pyplot as plt\n",
    "import seaborn as sns\n",
    "import scipy\n",
    "import pickle\n",
    "from nltk import WordNetLemmatizer\n",
    "from nltk.corpus import stopwords\n",
    "import re"
   ]
  },
  {
   "cell_type": "markdown",
   "metadata": {
    "papermill": {
     "duration": 0.032869,
     "end_time": "2020-12-02T02:55:05.117228",
     "exception": false,
     "start_time": "2020-12-02T02:55:05.084359",
     "status": "completed"
    },
    "tags": []
   },
   "source": [
    "Here is our data below:"
   ]
  },
  {
   "cell_type": "code",
   "execution_count": 3,
   "metadata": {
    "execution": {
     "iopub.execute_input": "2020-12-02T02:55:05.208741Z",
     "iopub.status.busy": "2020-12-02T02:55:05.206682Z",
     "iopub.status.idle": "2020-12-02T02:55:07.994822Z",
     "shell.execute_reply": "2020-12-02T02:55:07.995572Z"
    },
    "papermill": {
     "duration": 2.837358,
     "end_time": "2020-12-02T02:55:07.995792",
     "exception": false,
     "start_time": "2020-12-02T02:55:05.158434",
     "status": "completed"
    },
    "tags": []
   },
   "outputs": [
    {
     "data": {
      "text/html": [
       "<div>\n",
       "<style scoped>\n",
       "    .dataframe tbody tr th:only-of-type {\n",
       "        vertical-align: middle;\n",
       "    }\n",
       "\n",
       "    .dataframe tbody tr th {\n",
       "        vertical-align: top;\n",
       "    }\n",
       "\n",
       "    .dataframe thead th {\n",
       "        text-align: right;\n",
       "    }\n",
       "</style>\n",
       "<table border=\"1\" class=\"dataframe\">\n",
       "  <thead>\n",
       "    <tr style=\"text-align: right;\">\n",
       "      <th></th>\n",
       "      <th>Sequence</th>\n",
       "      <th>Sequence Type</th>\n",
       "    </tr>\n",
       "  </thead>\n",
       "  <tbody>\n",
       "    <tr>\n",
       "      <th>0</th>\n",
       "      <td>Insanity is hereditary, - You get it from your...</td>\n",
       "      <td>Joke</td>\n",
       "    </tr>\n",
       "    <tr>\n",
       "      <th>1</th>\n",
       "      <td>An honest politician is one who, when bought, ...</td>\n",
       "      <td>Joke</td>\n",
       "    </tr>\n",
       "    <tr>\n",
       "      <th>2</th>\n",
       "      <td>You can tune a piano, but you can't tuna fish.</td>\n",
       "      <td>Joke</td>\n",
       "    </tr>\n",
       "    <tr>\n",
       "      <th>3</th>\n",
       "      <td>A closed mouth gathers no foot.</td>\n",
       "      <td>Joke</td>\n",
       "    </tr>\n",
       "    <tr>\n",
       "      <th>4</th>\n",
       "      <td>What's black and white and red all over?  An e...</td>\n",
       "      <td>Joke</td>\n",
       "    </tr>\n",
       "    <tr>\n",
       "      <th>...</th>\n",
       "      <td>...</td>\n",
       "      <td>...</td>\n",
       "    </tr>\n",
       "    <tr>\n",
       "      <th>22175</th>\n",
       "      <td>He got some jobs in Asbury Park , New Jersey ,...</td>\n",
       "      <td>Non-Joke</td>\n",
       "    </tr>\n",
       "    <tr>\n",
       "      <th>22176</th>\n",
       "      <td>It is the ninth game in the original Mega Man ...</td>\n",
       "      <td>Non-Joke</td>\n",
       "    </tr>\n",
       "    <tr>\n",
       "      <th>22177</th>\n",
       "      <td>The name is short for Shenjiang Xinbao , Shenj...</td>\n",
       "      <td>Non-Joke</td>\n",
       "    </tr>\n",
       "    <tr>\n",
       "      <th>22178</th>\n",
       "      <td>Of the two albatross species found in Hawaii ,...</td>\n",
       "      <td>Non-Joke</td>\n",
       "    </tr>\n",
       "    <tr>\n",
       "      <th>22179</th>\n",
       "      <td>Alternatively , if you have no Internet access...</td>\n",
       "      <td>Non-Joke</td>\n",
       "    </tr>\n",
       "  </tbody>\n",
       "</table>\n",
       "<p>22180 rows × 2 columns</p>\n",
       "</div>"
      ],
      "text/plain": [
       "                                                Sequence Sequence Type\n",
       "0      Insanity is hereditary, - You get it from your...          Joke\n",
       "1      An honest politician is one who, when bought, ...          Joke\n",
       "2         You can tune a piano, but you can't tuna fish.          Joke\n",
       "3                        A closed mouth gathers no foot.          Joke\n",
       "4      What's black and white and red all over?  An e...          Joke\n",
       "...                                                  ...           ...\n",
       "22175  He got some jobs in Asbury Park , New Jersey ,...      Non-Joke\n",
       "22176  It is the ninth game in the original Mega Man ...      Non-Joke\n",
       "22177  The name is short for Shenjiang Xinbao , Shenj...      Non-Joke\n",
       "22178  Of the two albatross species found in Hawaii ,...      Non-Joke\n",
       "22179  Alternatively , if you have no Internet access...      Non-Joke\n",
       "\n",
       "[22180 rows x 2 columns]"
      ]
     },
     "execution_count": 3,
     "metadata": {},
     "output_type": "execute_result"
    }
   ],
   "source": [
    "humor_oneliners = pd.read_pickle(\"../input/humor-detection/Short-Text-Corpus-For-Humor-Detection-master/Short-Text-Corpus-For-Humor-Detection-master/datasets/humorous_oneliners.pickle\")\n",
    "double_oneliners = pd.read_pickle(\"../input/humor-detection/Short-Text-Corpus-For-Humor-Detection-master/Short-Text-Corpus-For-Humor-Detection-master/datasets/oneliners_incl_doubles.pickle\")\n",
    "proverbs = pd.read_pickle(\"../input/humor-detection/Short-Text-Corpus-For-Humor-Detection-master/Short-Text-Corpus-For-Humor-Detection-master/datasets/proverbs.pickle\")\n",
    "headlines = pd.read_pickle(\"../input/humor-detection/Short-Text-Corpus-For-Humor-Detection-master/Short-Text-Corpus-For-Humor-Detection-master/datasets/reuters_headlines.pickle\")\n",
    "wiki = pd.read_pickle(\"../input/humor-detection/Short-Text-Corpus-For-Humor-Detection-master/Short-Text-Corpus-For-Humor-Detection-master/datasets/wiki_sentences.pickle\")\n",
    "\n",
    "jokes = humor_oneliners+double_oneliners\n",
    "non_jokes = proverbs+headlines+wiki\n",
    "dataset = humor_oneliners+double_oneliners+proverbs+headlines+wiki\n",
    "data = pd.DataFrame({\"Sequence\":dataset,\n",
    "                     \"Sequence Type\":[\"Joke\" if sequence in jokes else \"Non-Joke\" for sequence in dataset]})\n",
    "data"
   ]
  },
  {
   "cell_type": "markdown",
   "metadata": {
    "papermill": {
     "duration": 0.033991,
     "end_time": "2020-12-02T02:55:08.065562",
     "exception": false,
     "start_time": "2020-12-02T02:55:08.031571",
     "status": "completed"
    },
    "tags": []
   },
   "source": [
    "We will repeat our data cleaning steps from earlier here to offer better analysis. Also, we will do extra cleaning steps like removing stop words and punctuation so we can take a closer look at certain features like most common words and phrases bought up."
   ]
  },
  {
   "cell_type": "code",
   "execution_count": 4,
   "metadata": {
    "execution": {
     "iopub.execute_input": "2020-12-02T02:55:08.150610Z",
     "iopub.status.busy": "2020-12-02T02:55:08.149803Z",
     "iopub.status.idle": "2020-12-02T02:55:08.153040Z",
     "shell.execute_reply": "2020-12-02T02:55:08.153602Z"
    },
    "papermill": {
     "duration": 0.053559,
     "end_time": "2020-12-02T02:55:08.153773",
     "exception": false,
     "start_time": "2020-12-02T02:55:08.100214",
     "status": "completed"
    },
    "tags": []
   },
   "outputs": [],
   "source": [
    "def lemmatize(s):\n",
    "    wordnet_lemmatizer = WordNetLemmatizer()\n",
    "    return \" \".join([wordnet_lemmatizer.lemmatize(w,'v') for w in s.split(\" \")])\n",
    "def lower(s):\n",
    "    return s.lower()\n",
    "def remove_stop_words(s):\n",
    "    return \" \".join([w for w in s.split(\" \") if not w in stopwords.words(\"english\")])\n",
    "def clean(data, include_stop_words=False):\n",
    "    cleaned = []\n",
    "    for item in data:\n",
    "        item = re.sub(\"[.!?\\\\-,\\'\\\"]\", \"\", item) # remove punctuation (the [] defines a set of characters for to look for)\n",
    "        item = item.lower()\n",
    "        item = lemmatize(item)\n",
    "        item = re.sub(r'\\d+', '', item) # remove nums\n",
    "        if not include_stop_words:\n",
    "            item = remove_stop_words(item)\n",
    "        item = re.sub(\" +\", \" \", item) # removes extra spaces from cleaning (the + selects multiple occurrences of the space)\n",
    "        cleaned.append(item)\n",
    "    return cleaned"
   ]
  },
  {
   "cell_type": "code",
   "execution_count": 5,
   "metadata": {
    "_kg_hide-input": true,
    "execution": {
     "iopub.execute_input": "2020-12-02T02:55:08.229861Z",
     "iopub.status.busy": "2020-12-02T02:55:08.228953Z",
     "iopub.status.idle": "2020-12-02T02:56:06.838636Z",
     "shell.execute_reply": "2020-12-02T02:56:06.839248Z"
    },
    "papermill": {
     "duration": 58.652028,
     "end_time": "2020-12-02T02:56:06.839417",
     "exception": false,
     "start_time": "2020-12-02T02:55:08.187389",
     "status": "completed"
    },
    "tags": []
   },
   "outputs": [
    {
     "data": {
      "text/html": [
       "<div>\n",
       "<style scoped>\n",
       "    .dataframe tbody tr th:only-of-type {\n",
       "        vertical-align: middle;\n",
       "    }\n",
       "\n",
       "    .dataframe tbody tr th {\n",
       "        vertical-align: top;\n",
       "    }\n",
       "\n",
       "    .dataframe thead th {\n",
       "        text-align: right;\n",
       "    }\n",
       "</style>\n",
       "<table border=\"1\" class=\"dataframe\">\n",
       "  <thead>\n",
       "    <tr style=\"text-align: right;\">\n",
       "      <th></th>\n",
       "      <th>Sequence</th>\n",
       "      <th>Sequence Type</th>\n",
       "      <th>Cleaned Sequence</th>\n",
       "      <th>Cleaned Sequence w/ Stop Words</th>\n",
       "    </tr>\n",
       "  </thead>\n",
       "  <tbody>\n",
       "    <tr>\n",
       "      <th>0</th>\n",
       "      <td>Insanity is hereditary, - You get it from your...</td>\n",
       "      <td>Joke</td>\n",
       "      <td>insanity hereditary get children</td>\n",
       "      <td>insanity be hereditary you get it from your ch...</td>\n",
       "    </tr>\n",
       "    <tr>\n",
       "      <th>1</th>\n",
       "      <td>An honest politician is one who, when bought, ...</td>\n",
       "      <td>Joke</td>\n",
       "      <td>honest politician one buy stay buy</td>\n",
       "      <td>an honest politician be one who when buy stay buy</td>\n",
       "    </tr>\n",
       "    <tr>\n",
       "      <th>2</th>\n",
       "      <td>You can tune a piano, but you can't tuna fish.</td>\n",
       "      <td>Joke</td>\n",
       "      <td>tune piano cant tuna fish</td>\n",
       "      <td>you can tune a piano but you cant tuna fish</td>\n",
       "    </tr>\n",
       "    <tr>\n",
       "      <th>3</th>\n",
       "      <td>A closed mouth gathers no foot.</td>\n",
       "      <td>Joke</td>\n",
       "      <td>close mouth gather foot</td>\n",
       "      <td>a close mouth gather no foot</td>\n",
       "    </tr>\n",
       "    <tr>\n",
       "      <th>4</th>\n",
       "      <td>What's black and white and red all over?  An e...</td>\n",
       "      <td>Joke</td>\n",
       "      <td>whats black white red embarassed zebra</td>\n",
       "      <td>whats black and white and red all over an emba...</td>\n",
       "    </tr>\n",
       "    <tr>\n",
       "      <th>...</th>\n",
       "      <td>...</td>\n",
       "      <td>...</td>\n",
       "      <td>...</td>\n",
       "      <td>...</td>\n",
       "    </tr>\n",
       "    <tr>\n",
       "      <th>22175</th>\n",
       "      <td>He got some jobs in Asbury Park , New Jersey ,...</td>\n",
       "      <td>Non-Joke</td>\n",
       "      <td>get job asbury park new jersey play hongkong i...</td>\n",
       "      <td>he get some job in asbury park new jersey play...</td>\n",
       "    </tr>\n",
       "    <tr>\n",
       "      <th>22176</th>\n",
       "      <td>It is the ninth game in the original Mega Man ...</td>\n",
       "      <td>Non-Joke</td>\n",
       "      <td>ninth game original mega man series first seri...</td>\n",
       "      <td>it be the ninth game in the original mega man ...</td>\n",
       "    </tr>\n",
       "    <tr>\n",
       "      <th>22177</th>\n",
       "      <td>The name is short for Shenjiang Xinbao , Shenj...</td>\n",
       "      <td>Non-Joke</td>\n",
       "      <td>name short shenjiang xinbao shenjiang short fo...</td>\n",
       "      <td>the name be short for shenjiang xinbao shenjia...</td>\n",
       "    </tr>\n",
       "    <tr>\n",
       "      <th>22178</th>\n",
       "      <td>Of the two albatross species found in Hawaii ,...</td>\n",
       "      <td>Non-Joke</td>\n",
       "      <td>two albatross species find hawaii one blackfoo...</td>\n",
       "      <td>of the two albatross species find in hawaii on...</td>\n",
       "    </tr>\n",
       "    <tr>\n",
       "      <th>22179</th>\n",
       "      <td>Alternatively , if you have no Internet access...</td>\n",
       "      <td>Non-Joke</td>\n",
       "      <td>alternatively internet access home may use sch...</td>\n",
       "      <td>alternatively if you have no internet access a...</td>\n",
       "    </tr>\n",
       "  </tbody>\n",
       "</table>\n",
       "<p>22180 rows × 4 columns</p>\n",
       "</div>"
      ],
      "text/plain": [
       "                                                Sequence Sequence Type  \\\n",
       "0      Insanity is hereditary, - You get it from your...          Joke   \n",
       "1      An honest politician is one who, when bought, ...          Joke   \n",
       "2         You can tune a piano, but you can't tuna fish.          Joke   \n",
       "3                        A closed mouth gathers no foot.          Joke   \n",
       "4      What's black and white and red all over?  An e...          Joke   \n",
       "...                                                  ...           ...   \n",
       "22175  He got some jobs in Asbury Park , New Jersey ,...      Non-Joke   \n",
       "22176  It is the ninth game in the original Mega Man ...      Non-Joke   \n",
       "22177  The name is short for Shenjiang Xinbao , Shenj...      Non-Joke   \n",
       "22178  Of the two albatross species found in Hawaii ,...      Non-Joke   \n",
       "22179  Alternatively , if you have no Internet access...      Non-Joke   \n",
       "\n",
       "                                        Cleaned Sequence  \\\n",
       "0                       insanity hereditary get children   \n",
       "1                     honest politician one buy stay buy   \n",
       "2                              tune piano cant tuna fish   \n",
       "3                                close mouth gather foot   \n",
       "4                 whats black white red embarassed zebra   \n",
       "...                                                  ...   \n",
       "22175  get job asbury park new jersey play hongkong i...   \n",
       "22176  ninth game original mega man series first seri...   \n",
       "22177  name short shenjiang xinbao shenjiang short fo...   \n",
       "22178  two albatross species find hawaii one blackfoo...   \n",
       "22179  alternatively internet access home may use sch...   \n",
       "\n",
       "                          Cleaned Sequence w/ Stop Words  \n",
       "0      insanity be hereditary you get it from your ch...  \n",
       "1      an honest politician be one who when buy stay buy  \n",
       "2            you can tune a piano but you cant tuna fish  \n",
       "3                           a close mouth gather no foot  \n",
       "4      whats black and white and red all over an emba...  \n",
       "...                                                  ...  \n",
       "22175  he get some job in asbury park new jersey play...  \n",
       "22176  it be the ninth game in the original mega man ...  \n",
       "22177  the name be short for shenjiang xinbao shenjia...  \n",
       "22178  of the two albatross species find in hawaii on...  \n",
       "22179  alternatively if you have no internet access a...  \n",
       "\n",
       "[22180 rows x 4 columns]"
      ]
     },
     "execution_count": 5,
     "metadata": {},
     "output_type": "execute_result"
    }
   ],
   "source": [
    "cleaned = clean(data[\"Sequence\"])\n",
    "cleaned_no_stop = clean(data[\"Sequence\"], include_stop_words=True)\n",
    "data[\"Cleaned Sequence\"] = cleaned\n",
    "data[\"Cleaned Sequence w/ Stop Words\"] = cleaned_no_stop\n",
    "data"
   ]
  },
  {
   "cell_type": "markdown",
   "metadata": {
    "papermill": {
     "duration": 0.034433,
     "end_time": "2020-12-02T02:56:06.908750",
     "exception": false,
     "start_time": "2020-12-02T02:56:06.874317",
     "status": "completed"
    },
    "tags": []
   },
   "source": [
    "Let's first take a look at the phrase length, and if there is any significant difference in their distributions."
   ]
  },
  {
   "cell_type": "code",
   "execution_count": 6,
   "metadata": {
    "_kg_hide-input": false,
    "execution": {
     "iopub.execute_input": "2020-12-02T02:56:07.023334Z",
     "iopub.status.busy": "2020-12-02T02:56:06.988612Z",
     "iopub.status.idle": "2020-12-02T02:56:07.063649Z",
     "shell.execute_reply": "2020-12-02T02:56:07.062881Z"
    },
    "papermill": {
     "duration": 0.119282,
     "end_time": "2020-12-02T02:56:07.063797",
     "exception": false,
     "start_time": "2020-12-02T02:56:06.944515",
     "status": "completed"
    },
    "tags": []
   },
   "outputs": [],
   "source": [
    "data[\"Sequence Length\"] = [len(sequence) for sequence in data[\"Cleaned Sequence\"]]\n",
    "data[\"Cleaned Sequence Length\"] = [len(sequence) for sequence in data[\"Cleaned Sequence\"]]\n",
    "data[\"Sequence Word Count\"] = [len(sequence.split(\" \")) for sequence in data[\"Cleaned Sequence\"]]"
   ]
  },
  {
   "cell_type": "code",
   "execution_count": 7,
   "metadata": {
    "_kg_hide-input": true,
    "execution": {
     "iopub.execute_input": "2020-12-02T02:56:07.143341Z",
     "iopub.status.busy": "2020-12-02T02:56:07.142530Z",
     "iopub.status.idle": "2020-12-02T02:56:07.854761Z",
     "shell.execute_reply": "2020-12-02T02:56:07.853889Z"
    },
    "papermill": {
     "duration": 0.755581,
     "end_time": "2020-12-02T02:56:07.854910",
     "exception": false,
     "start_time": "2020-12-02T02:56:07.099329",
     "status": "completed"
    },
    "tags": []
   },
   "outputs": [
    {
     "data": {
      "text/plain": [
       "Text(0.5, 1.0, 'Length of Input Sequence for Jokes vs Non-Jokes')"
      ]
     },
     "execution_count": 7,
     "metadata": {},
     "output_type": "execute_result"
    },
    {
     "data": {
      "image/png": "[encoded data removed]",
      "text/plain": [
       "<Figure size 1080x576 with 1 Axes>"
      ]
     },
     "metadata": {
      "needs_background": "light"
     },
     "output_type": "display_data"
    }
   ],
   "source": [
    "fig, ax = plt.subplots(figsize=(15,8))\n",
    "sns.histplot(ax=ax, data=data, x=\"Sequence Length\", hue=\"Sequence Type\", bins=50)\n",
    "ax.set_title(\"Length of Input Sequence for Jokes vs Non-Jokes\")"
   ]
  },
  {
   "cell_type": "markdown",
   "metadata": {
    "papermill": {
     "duration": 0.051209,
     "end_time": "2020-12-02T02:56:07.952370",
     "exception": false,
     "start_time": "2020-12-02T02:56:07.901161",
     "status": "completed"
    },
    "tags": []
   },
   "source": [
    "The immediately clear conclusion from the plot above is the the level of right-skew on the distributions of jokes and non-jokes. Most of them are about 0-200 characters in length, but some of them are much larger. Comparatively, these values are not as common, since they are not even visible as bars on the histogram (especially near the right end of the graph). These later values are more likely outliers with respect to sequence length."
   ]
  },
  {
   "cell_type": "code",
   "execution_count": 8,
   "metadata": {
    "_kg_hide-input": true,
    "_kg_hide-output": true,
    "execution": {
     "iopub.execute_input": "2020-12-02T02:56:08.043931Z",
     "iopub.status.busy": "2020-12-02T02:56:08.042788Z",
     "iopub.status.idle": "2020-12-02T02:56:08.052434Z",
     "shell.execute_reply": "2020-12-02T02:56:08.051534Z"
    },
    "papermill": {
     "duration": 0.056674,
     "end_time": "2020-12-02T02:56:08.052618",
     "exception": false,
     "start_time": "2020-12-02T02:56:07.995944",
     "status": "completed"
    },
    "tags": []
   },
   "outputs": [
    {
     "name": "stdout",
     "output_type": "stream",
     "text": [
      "Sequence Type\n",
      "Joke        10667\n",
      "Non-Joke    11513\n",
      "Name: Sequence Length, dtype: int64\n"
     ]
    }
   ],
   "source": [
    "by_type = data.groupby(\"Sequence Type\")\n",
    "print(by_type[\"Sequence Length\"].size())"
   ]
  },
  {
   "cell_type": "code",
   "execution_count": 9,
   "metadata": {
    "_kg_hide-input": true,
    "execution": {
     "iopub.execute_input": "2020-12-02T02:56:08.142033Z",
     "iopub.status.busy": "2020-12-02T02:56:08.139799Z",
     "iopub.status.idle": "2020-12-02T02:56:08.153178Z",
     "shell.execute_reply": "2020-12-02T02:56:08.152250Z"
    },
    "papermill": {
     "duration": 0.058574,
     "end_time": "2020-12-02T02:56:08.153369",
     "exception": false,
     "start_time": "2020-12-02T02:56:08.094795",
     "status": "completed"
    },
    "tags": []
   },
   "outputs": [
    {
     "data": {
      "text/plain": [
       "Sequence Type\n",
       "Joke        45\n",
       "Non-Joke    53\n",
       "Name: Sequence Length, dtype: int64"
      ]
     },
     "execution_count": 9,
     "metadata": {},
     "output_type": "execute_result"
    }
   ],
   "source": [
    "by_type[\"Sequence Length\"].median()"
   ]
  },
  {
   "cell_type": "markdown",
   "metadata": {
    "papermill": {
     "duration": 0.037645,
     "end_time": "2020-12-02T02:56:08.235850",
     "exception": false,
     "start_time": "2020-12-02T02:56:08.198205",
     "status": "completed"
    },
    "tags": []
   },
   "source": [
    "The median of each distribution confirms that both distributions are centered at around the same region, at about 40-50 characters (this is cleaned data, so there counts only the most important words and excludes punctuation and numbers). Of note, the median length of Joke Sequences is less than the median length of Non-Joke Sequences."
   ]
  },
  {
   "cell_type": "code",
   "execution_count": 10,
   "metadata": {
    "_kg_hide-input": true,
    "execution": {
     "iopub.execute_input": "2020-12-02T02:56:08.322905Z",
     "iopub.status.busy": "2020-12-02T02:56:08.322148Z",
     "iopub.status.idle": "2020-12-02T02:56:08.336592Z",
     "shell.execute_reply": "2020-12-02T02:56:08.335853Z"
    },
    "papermill": {
     "duration": 0.062401,
     "end_time": "2020-12-02T02:56:08.336729",
     "exception": false,
     "start_time": "2020-12-02T02:56:08.274328",
     "status": "completed"
    },
    "tags": []
   },
   "outputs": [
    {
     "name": "stdout",
     "output_type": "stream",
     "text": [
      "First Quartile: Joke - 34 Characters, Non-Jokes - 40 Characters\n",
      "Third Quartile: Joke - 59 Characters, Non-Jokes - 64 Characters\n",
      "IQR: Joke- 25 Characters, Non-Jokes - 24 Characters\n"
     ]
    }
   ],
   "source": [
    "f_quart = by_type[\"Sequence Length\"].quantile(.25)\n",
    "t_quart = by_type[\"Sequence Length\"].quantile(.75)\n",
    "print(\"First Quartile: Joke - %d Characters, Non-Jokes - %d Characters\" % (f_quart[0], f_quart[1]))\n",
    "print(\"Third Quartile: Joke - %d Characters, Non-Jokes - %d Characters\" % (t_quart[0], t_quart[1]))\n",
    "print(\"IQR: Joke- %d Characters, Non-Jokes - %d Characters\" % (t_quart[0] - f_quart[0],t_quart[1] - f_quart[1]))"
   ]
  },
  {
   "cell_type": "markdown",
   "metadata": {
    "papermill": {
     "duration": 0.038082,
     "end_time": "2020-12-02T02:56:08.413140",
     "exception": false,
     "start_time": "2020-12-02T02:56:08.375058",
     "status": "completed"
    },
    "tags": []
   },
   "source": [
    "Of interest, the spread of the values for the length of Non-Joke Sequences (IQR of 25) is about the same as those for Joke Sequences (IQR of 24). This suggests that when it comes down to the most important information regarding the statement, length wise, the variance in the word lengths is about the same.\n",
    "\n",
    "While mean and standard deviation are more susceptible to skew, they still tell a similar story to that found above, reaffirming the results. Notably though, the standard deviation for the amount of characters for a non-joke sequence is much greater than for a joke sequence, different from our results considering IQR. This is probably because of the skew, as seen in larger tail on the distribution of non-joke character counts."
   ]
  },
  {
   "cell_type": "code",
   "execution_count": 11,
   "metadata": {
    "_kg_hide-input": true,
    "execution": {
     "iopub.execute_input": "2020-12-02T02:56:08.506265Z",
     "iopub.status.busy": "2020-12-02T02:56:08.505082Z",
     "iopub.status.idle": "2020-12-02T02:56:08.514840Z",
     "shell.execute_reply": "2020-12-02T02:56:08.514175Z"
    },
    "papermill": {
     "duration": 0.063326,
     "end_time": "2020-12-02T02:56:08.514971",
     "exception": false,
     "start_time": "2020-12-02T02:56:08.451645",
     "status": "completed"
    },
    "tags": []
   },
   "outputs": [
    {
     "name": "stdout",
     "output_type": "stream",
     "text": [
      "Mean: Joke - 47 Characters, Non-Jokes - 55 Characters\n",
      "Standard Deviation: Joke - 18 Characters, Non-Jokes - 27 Characters\n"
     ]
    }
   ],
   "source": [
    "mean = by_type[\"Sequence Length\"].mean()\n",
    "std = by_type[\"Sequence Length\"].std()\n",
    "print(\"Mean: Joke - %d Characters, Non-Jokes - %d Characters\" % (mean[0], mean[1]))\n",
    "print(\"Standard Deviation: Joke - %d Characters, Non-Jokes - %d Characters\" % (std[0], std[1]))"
   ]
  },
  {
   "cell_type": "markdown",
   "metadata": {
    "papermill": {
     "duration": 0.038483,
     "end_time": "2020-12-02T02:56:08.592528",
     "exception": false,
     "start_time": "2020-12-02T02:56:08.554045",
     "status": "completed"
    },
    "tags": []
   },
   "source": [
    "We can take a look at this in comparison to number of words per sequences, and see there are any noticeable differences between word count and character count."
   ]
  },
  {
   "cell_type": "code",
   "execution_count": 12,
   "metadata": {
    "_kg_hide-input": true,
    "execution": {
     "iopub.execute_input": "2020-12-02T02:56:08.685437Z",
     "iopub.status.busy": "2020-12-02T02:56:08.684554Z",
     "iopub.status.idle": "2020-12-02T02:56:09.257181Z",
     "shell.execute_reply": "2020-12-02T02:56:09.256532Z"
    },
    "papermill": {
     "duration": 0.626002,
     "end_time": "2020-12-02T02:56:09.257318",
     "exception": false,
     "start_time": "2020-12-02T02:56:08.631316",
     "status": "completed"
    },
    "tags": []
   },
   "outputs": [
    {
     "data": {
      "text/plain": [
       "Text(0.5, 1.0, 'Number of Words for Jokes vs Non-Jokes')"
      ]
     },
     "execution_count": 12,
     "metadata": {},
     "output_type": "execute_result"
    },
    {
     "data": {
      "image/png": "[encoded data removed]",
      "text/plain": [
       "<Figure size 1080x576 with 1 Axes>"
      ]
     },
     "metadata": {
      "needs_background": "light"
     },
     "output_type": "display_data"
    }
   ],
   "source": [
    "fig, ax2 = plt.subplots(figsize=(15,8))\n",
    "sns.histplot(ax=ax2, data=data, x=\"Sequence Word Count\", hue=\"Sequence Type\", bins=50)\n",
    "ax2.set_title(\"Number of Words for Jokes vs Non-Jokes\")"
   ]
  },
  {
   "cell_type": "markdown",
   "metadata": {
    "papermill": {
     "duration": 0.040549,
     "end_time": "2020-12-02T02:56:09.338788",
     "exception": false,
     "start_time": "2020-12-02T02:56:09.298239",
     "status": "completed"
    },
    "tags": []
   },
   "source": [
    "Interestingly here, there is seems to be a greater spread in the word count for jokes than for non-jokes, but about the same center point for the distribution. Lets confirm this numerically."
   ]
  },
  {
   "cell_type": "code",
   "execution_count": 13,
   "metadata": {
    "_kg_hide-input": true,
    "execution": {
     "iopub.execute_input": "2020-12-02T02:56:09.427225Z",
     "iopub.status.busy": "2020-12-02T02:56:09.426431Z",
     "iopub.status.idle": "2020-12-02T02:56:09.435273Z",
     "shell.execute_reply": "2020-12-02T02:56:09.434489Z"
    },
    "papermill": {
     "duration": 0.055999,
     "end_time": "2020-12-02T02:56:09.435421",
     "exception": false,
     "start_time": "2020-12-02T02:56:09.379422",
     "status": "completed"
    },
    "tags": []
   },
   "outputs": [
    {
     "data": {
      "text/plain": [
       "Sequence Type\n",
       "Joke        8\n",
       "Non-Joke    9\n",
       "Name: Sequence Word Count, dtype: int64"
      ]
     },
     "execution_count": 13,
     "metadata": {},
     "output_type": "execute_result"
    }
   ],
   "source": [
    "by_type[\"Sequence Word Count\"].median()"
   ]
  },
  {
   "cell_type": "markdown",
   "metadata": {
    "papermill": {
     "duration": 0.040857,
     "end_time": "2020-12-02T02:56:09.517635",
     "exception": false,
     "start_time": "2020-12-02T02:56:09.476778",
     "status": "completed"
    },
    "tags": []
   },
   "source": [
    "There is a small difference in the average number of words in a joke and in a non-joke, with Non-Joke Sequences having more words. This corresponds with our findings with respect to character count, where since there are more words, there are also more characters."
   ]
  },
  {
   "cell_type": "code",
   "execution_count": 14,
   "metadata": {
    "_kg_hide-input": true,
    "execution": {
     "iopub.execute_input": "2020-12-02T02:56:09.609850Z",
     "iopub.status.busy": "2020-12-02T02:56:09.608964Z",
     "iopub.status.idle": "2020-12-02T02:56:09.619264Z",
     "shell.execute_reply": "2020-12-02T02:56:09.619972Z"
    },
    "papermill": {
     "duration": 0.06102,
     "end_time": "2020-12-02T02:56:09.620180",
     "exception": false,
     "start_time": "2020-12-02T02:56:09.559160",
     "status": "completed"
    },
    "tags": []
   },
   "outputs": [
    {
     "name": "stdout",
     "output_type": "stream",
     "text": [
      "First Quartile: Joke - 6 Words, Non-Jokes - 7 Words\n",
      "Third Quartile: Joke - 10 Words, Non-Jokes - 10 Words\n",
      "IQR: Joke- 4 Words, Non-Jokes - 3 Words\n"
     ]
    }
   ],
   "source": [
    "f_quart_word = by_type[\"Sequence Word Count\"].quantile(.25)\n",
    "t_quart_word = by_type[\"Sequence Word Count\"].quantile(.75)\n",
    "print(\"First Quartile: Joke - %d Words, Non-Jokes - %d Words\" % (f_quart_word[0], f_quart_word[1]))\n",
    "print(\"Third Quartile: Joke - %d Words, Non-Jokes - %d Words\" % (t_quart_word[0], t_quart_word[1]))\n",
    "print(\"IQR: Joke- %d Words, Non-Jokes - %d Words\" % (t_quart_word[0] - f_quart_word[0],t_quart_word[1] - f_quart_word[1]))"
   ]
  },
  {
   "cell_type": "markdown",
   "metadata": {
    "papermill": {
     "duration": 0.042322,
     "end_time": "2020-12-02T02:56:09.706677",
     "exception": false,
     "start_time": "2020-12-02T02:56:09.664355",
     "status": "completed"
    },
    "tags": []
   },
   "source": [
    "There is a small difference in spread, showing that the spread in the distribution of word count for a Joke Sequence is a little greater than for a Non-Joke Sequences, suggesting that the jokes in this dataset tend to vary a little more in size.\n",
    "\n",
    "Looking at the mean and standard deviation, we see that the measures of center agree on which distribution has a lower center, but there are differing results for spread. The distribution of word counts for Non-Joke Sequences has a larger standard deviation, but smaller interquartile range than the distribution of word counts for Joke Sequences. This is a result of skew, which is why we first presented the IQR, since it is more resistant to skew than standard deviation."
   ]
  },
  {
   "cell_type": "code",
   "execution_count": 15,
   "metadata": {
    "_kg_hide-input": true,
    "execution": {
     "iopub.execute_input": "2020-12-02T02:56:09.801769Z",
     "iopub.status.busy": "2020-12-02T02:56:09.800894Z",
     "iopub.status.idle": "2020-12-02T02:56:09.809451Z",
     "shell.execute_reply": "2020-12-02T02:56:09.808668Z"
    },
    "papermill": {
     "duration": 0.060235,
     "end_time": "2020-12-02T02:56:09.809608",
     "exception": false,
     "start_time": "2020-12-02T02:56:09.749373",
     "status": "completed"
    },
    "tags": []
   },
   "outputs": [
    {
     "name": "stdout",
     "output_type": "stream",
     "text": [
      "Mean: Joke - 7 Words, Non-Jokes - 8 Words\n",
      "Standard Deviation: Joke - 3 Words, Non-Jokes - 4 Words\n"
     ]
    }
   ],
   "source": [
    "mean_word = by_type[\"Sequence Word Count\"].mean()\n",
    "std_word = by_type[\"Sequence Word Count\"].std()\n",
    "print(\"Mean: Joke - %d Words, Non-Jokes - %d Words\" % (mean_word[0], mean_word[1]))\n",
    "print(\"Standard Deviation: Joke - %d Words, Non-Jokes - %d Words\" % (std_word[0], std_word[1]))"
   ]
  },
  {
   "cell_type": "markdown",
   "metadata": {
    "papermill": {
     "duration": 0.042982,
     "end_time": "2020-12-02T02:56:09.895495",
     "exception": false,
     "start_time": "2020-12-02T02:56:09.852513",
     "status": "completed"
    },
    "tags": []
   },
   "source": [
    "In general though, it seems our results for word count do agree with our results for character count, which is to be expected.\n",
    "\n",
    "Another interesting feature to take a look at in a similar vein is the mean length of words."
   ]
  },
  {
   "cell_type": "code",
   "execution_count": 16,
   "metadata": {
    "_kg_hide-input": false,
    "execution": {
     "iopub.execute_input": "2020-12-02T02:56:10.012314Z",
     "iopub.status.busy": "2020-12-02T02:56:10.001955Z",
     "iopub.status.idle": "2020-12-02T02:56:10.396836Z",
     "shell.execute_reply": "2020-12-02T02:56:10.396051Z"
    },
    "papermill": {
     "duration": 0.45832,
     "end_time": "2020-12-02T02:56:10.396977",
     "exception": false,
     "start_time": "2020-12-02T02:56:09.938657",
     "status": "completed"
    },
    "tags": []
   },
   "outputs": [],
   "source": [
    "def mean_word_length(sequence):\n",
    "    means = np.array([len(word) for word in sequence.split(\" \")])\n",
    "    return means.mean()\n",
    "\n",
    "data[\"Sequence Mean Word Length\"] = [mean_word_length(sequence) for sequence in data[\"Cleaned Sequence\"]]"
   ]
  },
  {
   "cell_type": "code",
   "execution_count": 17,
   "metadata": {
    "_kg_hide-input": true,
    "execution": {
     "iopub.execute_input": "2020-12-02T02:56:10.496475Z",
     "iopub.status.busy": "2020-12-02T02:56:10.495353Z",
     "iopub.status.idle": "2020-12-02T02:56:11.814705Z",
     "shell.execute_reply": "2020-12-02T02:56:11.814066Z"
    },
    "papermill": {
     "duration": 1.374997,
     "end_time": "2020-12-02T02:56:11.814840",
     "exception": false,
     "start_time": "2020-12-02T02:56:10.439843",
     "status": "completed"
    },
    "tags": []
   },
   "outputs": [
    {
     "data": {
      "text/plain": [
       "Text(0.5, 1.0, 'Mean Length of Words for Jokes vs Non-Jokes')"
      ]
     },
     "execution_count": 17,
     "metadata": {},
     "output_type": "execute_result"
    },
    {
     "data": {
      "image/png": "[encoded data removed]",
      "text/plain": [
       "<Figure size 1080x576 with 1 Axes>"
      ]
     },
     "metadata": {
      "needs_background": "light"
     },
     "output_type": "display_data"
    }
   ],
   "source": [
    "fig, ax3 = plt.subplots(figsize=(15,8))\n",
    "sns.histplot(ax=ax3, data=data, x=\"Sequence Mean Word Length\", hue=\"Sequence Type\", bins=150)\n",
    "ax3.set_title(\"Mean Length of Words for Jokes vs Non-Jokes\")"
   ]
  },
  {
   "cell_type": "markdown",
   "metadata": {
    "papermill": {
     "duration": 0.045262,
     "end_time": "2020-12-02T02:56:11.904635",
     "exception": false,
     "start_time": "2020-12-02T02:56:11.859373",
     "status": "completed"
    },
    "tags": []
   },
   "source": [
    "From an initial glance, there is a minimal difference in the distributions of average count for jokes and non-jokes. We'll then take a look at the center and spread to better grasp what is going on."
   ]
  },
  {
   "cell_type": "code",
   "execution_count": 18,
   "metadata": {
    "_kg_hide-input": true,
    "execution": {
     "iopub.execute_input": "2020-12-02T02:56:12.001437Z",
     "iopub.status.busy": "2020-12-02T02:56:12.000670Z",
     "iopub.status.idle": "2020-12-02T02:56:12.009197Z",
     "shell.execute_reply": "2020-12-02T02:56:12.008428Z"
    },
    "papermill": {
     "duration": 0.05959,
     "end_time": "2020-12-02T02:56:12.009331",
     "exception": false,
     "start_time": "2020-12-02T02:56:11.949741",
     "status": "completed"
    },
    "tags": []
   },
   "outputs": [
    {
     "data": {
      "text/plain": [
       "Sequence Type\n",
       "Joke        5.000000\n",
       "Non-Joke    5.222222\n",
       "Name: Sequence Mean Word Length, dtype: float64"
      ]
     },
     "execution_count": 18,
     "metadata": {},
     "output_type": "execute_result"
    }
   ],
   "source": [
    "median_word_length = by_type[\"Sequence Mean Word Length\"].median()\n",
    "median_word_length"
   ]
  },
  {
   "cell_type": "markdown",
   "metadata": {
    "papermill": {
     "duration": 0.045054,
     "end_time": "2020-12-02T02:56:12.100469",
     "exception": false,
     "start_time": "2020-12-02T02:56:12.055415",
     "status": "completed"
    },
    "tags": []
   },
   "source": [
    "This means that basically, the length of words used in jokes versus those in non-jokes are very similar, suggesting that the level of vocabulary for each of these types of phrases are about the same (assuming there is a positive correlation between level of vocabulary and word length).  "
   ]
  },
  {
   "cell_type": "code",
   "execution_count": 19,
   "metadata": {
    "_kg_hide-input": true,
    "execution": {
     "iopub.execute_input": "2020-12-02T02:56:12.201023Z",
     "iopub.status.busy": "2020-12-02T02:56:12.200228Z",
     "iopub.status.idle": "2020-12-02T02:56:12.213177Z",
     "shell.execute_reply": "2020-12-02T02:56:12.213811Z"
    },
    "papermill": {
     "duration": 0.066965,
     "end_time": "2020-12-02T02:56:12.213997",
     "exception": false,
     "start_time": "2020-12-02T02:56:12.147032",
     "status": "completed"
    },
    "tags": []
   },
   "outputs": [
    {
     "name": "stdout",
     "output_type": "stream",
     "text": [
      "First Quartile: Joke - 4 Characters, Non-Jokes - 4 Characters\n",
      "Third Quartile: Joke - 5 Characters, Non-Jokes - 5 Characters\n",
      "IQR: Joke- 1 Characters, Non-Jokes - 1 Characters\n"
     ]
    }
   ],
   "source": [
    "f_quart_length = by_type[\"Sequence Mean Word Length\"].quantile(.25)\n",
    "t_quart_length = by_type[\"Sequence Mean Word Length\"].quantile(.75)\n",
    "print(\"First Quartile: Joke - %d Characters, Non-Jokes - %d Characters\" % (f_quart_length[0], f_quart_length[1]))\n",
    "print(\"Third Quartile: Joke - %d Characters, Non-Jokes - %d Characters\" % (t_quart_length[0], t_quart_length[1]))\n",
    "print(\"IQR: Joke- %d Characters, Non-Jokes - %d Characters\" % (t_quart_length[0] - f_quart_length[0],t_quart_length[1] - f_quart_length[1]))"
   ]
  },
  {
   "cell_type": "markdown",
   "metadata": {
    "papermill": {
     "duration": 0.045452,
     "end_time": "2020-12-02T02:56:12.305830",
     "exception": false,
     "start_time": "2020-12-02T02:56:12.260378",
     "status": "completed"
    },
    "tags": []
   },
   "source": [
    "These distributions also have the same IQR, meaning they vary from the measure of center in similar ways on average. All this suggests that there little different in the distributions of average word length for Joke sequences and Non-Joke Sequences.\n",
    "\n",
    "Switching gears, lets take a look at the most common (non-stopword) words in each set of data, and see if there are any patterns."
   ]
  },
  {
   "cell_type": "code",
   "execution_count": 20,
   "metadata": {
    "_kg_hide-input": true,
    "execution": {
     "iopub.execute_input": "2020-12-02T02:56:12.411222Z",
     "iopub.status.busy": "2020-12-02T02:56:12.410415Z",
     "iopub.status.idle": "2020-12-02T02:56:12.505348Z",
     "shell.execute_reply": "2020-12-02T02:56:12.504504Z"
    },
    "papermill": {
     "duration": 0.153678,
     "end_time": "2020-12-02T02:56:12.505498",
     "exception": false,
     "start_time": "2020-12-02T02:56:12.351820",
     "status": "completed"
    },
    "tags": []
   },
   "outputs": [],
   "source": [
    "def word_frequency(data):\n",
    "    frequency = {}\n",
    "    for seq in data:\n",
    "        for word in seq.split(\" \"):\n",
    "            if word in frequency:\n",
    "                frequency[word] += 1\n",
    "            else:\n",
    "                frequency[word] = 1\n",
    "    return frequency\n",
    "frequency_joke = word_frequency(data.loc[data[\"Sequence Type\"]==\"Joke\"][\"Cleaned Sequence\"])\n",
    "frequency_non_joke = word_frequency(data.loc[data[\"Sequence Type\"]==\"Non-Joke\"][\"Cleaned Sequence\"])"
   ]
  },
  {
   "cell_type": "code",
   "execution_count": 21,
   "metadata": {
    "_kg_hide-input": true,
    "execution": {
     "iopub.execute_input": "2020-12-02T02:56:12.644814Z",
     "iopub.status.busy": "2020-12-02T02:56:12.618768Z",
     "iopub.status.idle": "2020-12-02T02:56:13.122413Z",
     "shell.execute_reply": "2020-12-02T02:56:13.123000Z"
    },
    "papermill": {
     "duration": 0.571491,
     "end_time": "2020-12-02T02:56:13.123201",
     "exception": false,
     "start_time": "2020-12-02T02:56:12.551710",
     "status": "completed"
    },
    "tags": []
   },
   "outputs": [
    {
     "data": {
      "text/plain": [
       "Text(0.5, 1.0, 'Most Common Words in Non-Joke Sequences')"
      ]
     },
     "execution_count": 21,
     "metadata": {},
     "output_type": "execute_result"
    },
    {
     "data": {
      "image/png": "[encoded data removed]",
      "text/plain": [
       "<Figure size 1152x576 with 2 Axes>"
      ]
     },
     "metadata": {
      "needs_background": "light"
     },
     "output_type": "display_data"
    }
   ],
   "source": [
    "slc_start = 0\n",
    "slc_end = slc_start+14\n",
    "\n",
    "joke_freq = dict(sorted(frequency_joke.items(), key=lambda item: item[1], reverse=True))\n",
    "non_joke_freq = dict(sorted(frequency_non_joke.items(), key=lambda item: item[1], reverse=True))\n",
    "df_joke = pd.DataFrame({\"Word\":joke_freq.keys(), \"Frequency\":joke_freq.values()})\n",
    "df_non_joke = pd.DataFrame({\"Word\":non_joke_freq.keys(), \"Frequency\":non_joke_freq.values()})\n",
    "fig, ax = plt.subplots(1,2, sharey=True, figsize=(16,8))\n",
    "sns.barplot(ax=ax[0], data=df_joke[slc_start:slc_end], x=\"Word\", y=\"Frequency\")\n",
    "ax[0].set_title(\"Most Common Words in Joke Sequences\")\n",
    "sns.barplot(ax=ax[1], data=df_non_joke[slc_start:slc_end], x=\"Word\", y=\"Frequency\")\n",
    "ax[1].set_title(\"Most Common Words in Non-Joke Sequences\")"
   ]
  },
  {
   "cell_type": "markdown",
   "metadata": {
    "papermill": {
     "duration": 0.046946,
     "end_time": "2020-12-02T02:56:13.217750",
     "exception": false,
     "start_time": "2020-12-02T02:56:13.170804",
     "status": "completed"
    },
    "tags": []
   },
   "source": [
    "An interesting observation to make here is how the empty string is the most common \"word\" for non-joke sequences. These empty strings are a result of data cleaning (removing punctuation and digits). This may suggest that jokes have much less punctuation/numbers relative to non-jokes, especially since there are about the same amount of jokes and non-jokes (10667 jokes vs 11515 non-jokes).\n",
    "\n",
    "Another difference is the higher frequency of action oriented words in jokes versus in non-jokes. Words like \"call\", \"go\", \"make\", \"take\", \"think\", \"get\" are of higher frequency for jokes. Meanwhile for non-jokes, there appear to be nouns and pronouns like \"us\", \"time\", \"new\", \"two\", \"may\". From that, there may be evidence to suggest that jokes more commonly utilize actions to create humor, more so than a non-joke does."
   ]
  },
  {
   "cell_type": "markdown",
   "metadata": {
    "papermill": {
     "duration": 0.046964,
     "end_time": "2020-12-02T02:56:13.311731",
     "exception": false,
     "start_time": "2020-12-02T02:56:13.264767",
     "status": "completed"
    },
    "tags": []
   },
   "source": [
    "Let us then consider what stop words are most commonly used in our data, as opposed to the more important words."
   ]
  },
  {
   "cell_type": "code",
   "execution_count": 22,
   "metadata": {
    "_kg_hide-input": true,
    "_kg_hide-output": true,
    "execution": {
     "iopub.execute_input": "2020-12-02T02:56:13.424368Z",
     "iopub.status.busy": "2020-12-02T02:56:13.423556Z",
     "iopub.status.idle": "2020-12-02T02:57:01.276023Z",
     "shell.execute_reply": "2020-12-02T02:57:01.275236Z"
    },
    "papermill": {
     "duration": 47.917127,
     "end_time": "2020-12-02T02:57:01.276186",
     "exception": false,
     "start_time": "2020-12-02T02:56:13.359059",
     "status": "completed"
    },
    "tags": []
   },
   "outputs": [],
   "source": [
    "def stop_word_frequency(data):\n",
    "    frequency = {}\n",
    "    for seq in data:\n",
    "        for word in seq.split(\" \"):\n",
    "            if word in stopwords.words(\"english\"):\n",
    "                if word in frequency:\n",
    "                    frequency[word] += 1\n",
    "                else:\n",
    "                    frequency[word] = 1\n",
    "    return frequency\n",
    "stop_frequency_joke = stop_word_frequency(data.loc[data[\"Sequence Type\"]==\"Joke\"][\"Cleaned Sequence w/ Stop Words\"])\n",
    "stop_frequency_non_joke = stop_word_frequency(data.loc[data[\"Sequence Type\"]==\"Non-Joke\"][\"Cleaned Sequence w/ Stop Words\"])\n",
    "stop_joke_freq = dict(sorted(stop_frequency_joke.items(), key=lambda item: item[1], reverse=True))\n",
    "stop_non_joke_freq = dict(sorted(stop_frequency_non_joke.items(), key=lambda item: item[1], reverse=True))\n",
    "df_stop_joke = pd.DataFrame({\"Word\":stop_joke_freq.keys(), \"Frequency\":stop_joke_freq.values()})\n",
    "df_stop_non_joke = pd.DataFrame({\"Word\":stop_non_joke_freq.keys(), \"Frequency\":stop_non_joke_freq.values()})"
   ]
  },
  {
   "cell_type": "code",
   "execution_count": 23,
   "metadata": {
    "_kg_hide-input": true,
    "execution": {
     "iopub.execute_input": "2020-12-02T02:57:01.381115Z",
     "iopub.status.busy": "2020-12-02T02:57:01.380179Z",
     "iopub.status.idle": "2020-12-02T02:57:01.859847Z",
     "shell.execute_reply": "2020-12-02T02:57:01.859047Z"
    },
    "papermill": {
     "duration": 0.536428,
     "end_time": "2020-12-02T02:57:01.859990",
     "exception": false,
     "start_time": "2020-12-02T02:57:01.323562",
     "status": "completed"
    },
    "tags": []
   },
   "outputs": [
    {
     "data": {
      "text/plain": [
       "Text(0.5, 1.0, 'Most Common Stop Words in Non-Joke Sequences')"
      ]
     },
     "execution_count": 23,
     "metadata": {},
     "output_type": "execute_result"
    },
    {
     "data": {
      "image/png": "[encoded data removed]",
      "text/plain": [
       "<Figure size 1152x576 with 2 Axes>"
      ]
     },
     "metadata": {
      "needs_background": "light"
     },
     "output_type": "display_data"
    }
   ],
   "source": [
    "fig, ax5 = plt.subplots(1,2, sharey=True, figsize=(16,8))\n",
    "sns.barplot(ax=ax5[0], data=df_stop_joke[slc_start:slc_end], x=\"Word\", y=\"Frequency\")\n",
    "ax5[0].set_title(\"Most Common Stop Words in Joke Sequences\")\n",
    "sns.barplot(ax=ax5[1], data=df_stop_non_joke[slc_start:slc_end], x=\"Word\", y=\"Frequency\")\n",
    "ax5[1].set_title(\"Most Common Stop Words in Non-Joke Sequences\")"
   ]
  },
  {
   "cell_type": "markdown",
   "metadata": {
    "papermill": {
     "duration": 0.048909,
     "end_time": "2020-12-02T02:57:01.958691",
     "exception": false,
     "start_time": "2020-12-02T02:57:01.909782",
     "status": "completed"
    },
    "tags": []
   },
   "source": [
    "While most of the words here are the same, one interesting feature of note is how \"i\" is much more common for Jokes than for Non-Jokes. This suggests that the jokes in our dataset more often utilize the first person than the non-jokes. Another intersting observation is the use of \"a\" much more frequently in jokes than in non-jokes. This may suggests jokes in our dataset utilize the usage of some variable noun construct rather than a definite one (which would require the use of \"the\") to precede it. "
   ]
  }
 ],
 "metadata": {
  "kernelspec": {
   "display_name": "Python 3",
   "language": "python",
   "name": "python3"
  },
  "language_info": {
   "codemirror_mode": {
    "name": "ipython",
    "version": 3
   },
   "file_extension": ".py",
   "mimetype": "text/x-python",
   "name": "python",
   "nbconvert_exporter": "python",
   "pygments_lexer": "ipython3",
   "version": "3.7.6"
  },
  "papermill": {
   "duration": 137.087895,
   "end_time": "2020-12-02T02:57:03.071217",
   "environment_variables": {},
   "exception": null,
   "input_path": "__notebook__.ipynb",
   "output_path": "__notebook__.ipynb",
   "parameters": {},
   "start_time": "2020-12-02T02:54:45.983322",
   "version": "2.1.0"
  }
 },
 "nbformat": 4,
 "nbformat_minor": 4
}
