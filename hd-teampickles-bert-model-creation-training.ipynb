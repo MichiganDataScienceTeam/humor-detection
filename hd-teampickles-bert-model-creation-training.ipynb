{
 "cells": [
  {
   "cell_type": "code",
   "execution_count": 1,
   "metadata": {
    "_kg_hide-output": true,
    "execution": {
     "iopub.execute_input": "2020-11-20T01:33:49.997664Z",
     "iopub.status.busy": "2020-11-20T01:33:49.996675Z",
     "iopub.status.idle": "2020-11-20T01:34:04.173454Z",
     "shell.execute_reply": "2020-11-20T01:34:04.172396Z"
    },
    "papermill": {
     "duration": 14.202181,
     "end_time": "2020-11-20T01:34:04.173631",
     "exception": false,
     "start_time": "2020-11-20T01:33:49.971450",
     "status": "completed"
    },
    "tags": []
   },
   "outputs": [
    {
     "name": "stdout",
     "output_type": "stream",
     "text": [
      "Collecting transformers\r\n",
      "  Downloading transformers-3.5.1-py3-none-any.whl (1.3 MB)\r\n",
      "\u001b[K     |████████████████████████████████| 1.3 MB 1.3 MB/s \r\n",
      "\u001b[?25hRequirement already satisfied, skipping upgrade: protobuf in /opt/conda/lib/python3.7/site-packages (from transformers) (3.13.0)\r\n",
      "Requirement already satisfied, skipping upgrade: regex!=2019.12.17 in /opt/conda/lib/python3.7/site-packages (from transformers) (2020.4.4)\r\n",
      "Collecting tokenizers==0.9.3\r\n",
      "  Downloading tokenizers-0.9.3-cp37-cp37m-manylinux1_x86_64.whl (2.9 MB)\r\n",
      "\u001b[K     |████████████████████████████████| 2.9 MB 4.7 MB/s \r\n",
      "\u001b[?25hCollecting sentencepiece==0.1.91\r\n",
      "  Downloading sentencepiece-0.1.91-cp37-cp37m-manylinux1_x86_64.whl (1.1 MB)\r\n",
      "\u001b[K     |████████████████████████████████| 1.1 MB 10.4 MB/s \r\n",
      "\u001b[?25hRequirement already satisfied, skipping upgrade: numpy in /opt/conda/lib/python3.7/site-packages (from transformers) (1.18.5)\r\n",
      "Requirement already satisfied, skipping upgrade: filelock in /opt/conda/lib/python3.7/site-packages (from transformers) (3.0.10)\r\n",
      "Requirement already satisfied, skipping upgrade: sacremoses in /opt/conda/lib/python3.7/site-packages (from transformers) (0.0.43)\r\n",
      "Requirement already satisfied, skipping upgrade: packaging in /opt/conda/lib/python3.7/site-packages (from transformers) (20.1)\r\n",
      "Requirement already satisfied, skipping upgrade: tqdm>=4.27 in /opt/conda/lib/python3.7/site-packages (from transformers) (4.45.0)\r\n",
      "Requirement already satisfied, skipping upgrade: requests in /opt/conda/lib/python3.7/site-packages (from transformers) (2.23.0)\r\n",
      "Requirement already satisfied, skipping upgrade: setuptools in /opt/conda/lib/python3.7/site-packages (from protobuf->transformers) (46.1.3.post20200325)\r\n",
      "Requirement already satisfied, skipping upgrade: six>=1.9 in /opt/conda/lib/python3.7/site-packages (from protobuf->transformers) (1.14.0)\r\n",
      "Requirement already satisfied, skipping upgrade: joblib in /opt/conda/lib/python3.7/site-packages (from sacremoses->transformers) (0.14.1)\r\n",
      "Requirement already satisfied, skipping upgrade: click in /opt/conda/lib/python3.7/site-packages (from sacremoses->transformers) (7.1.1)\r\n",
      "Requirement already satisfied, skipping upgrade: pyparsing>=2.0.2 in /opt/conda/lib/python3.7/site-packages (from packaging->transformers) (2.4.7)\r\n",
      "Requirement already satisfied, skipping upgrade: chardet<4,>=3.0.2 in /opt/conda/lib/python3.7/site-packages (from requests->transformers) (3.0.4)\r\n",
      "Requirement already satisfied, skipping upgrade: urllib3!=1.25.0,!=1.25.1,<1.26,>=1.21.1 in /opt/conda/lib/python3.7/site-packages (from requests->transformers) (1.25.9)\r\n",
      "Requirement already satisfied, skipping upgrade: certifi>=2017.4.17 in /opt/conda/lib/python3.7/site-packages (from requests->transformers) (2020.6.20)\r\n",
      "Requirement already satisfied, skipping upgrade: idna<3,>=2.5 in /opt/conda/lib/python3.7/site-packages (from requests->transformers) (2.9)\r\n",
      "Installing collected packages: tokenizers, sentencepiece, transformers\r\n",
      "  Attempting uninstall: tokenizers\r\n",
      "    Found existing installation: tokenizers 0.9.2\r\n",
      "    Uninstalling tokenizers-0.9.2:\r\n",
      "      Successfully uninstalled tokenizers-0.9.2\r\n",
      "  Attempting uninstall: sentencepiece\r\n",
      "    Found existing installation: sentencepiece 0.1.94\r\n",
      "    Uninstalling sentencepiece-0.1.94:\r\n",
      "      Successfully uninstalled sentencepiece-0.1.94\r\n",
      "  Attempting uninstall: transformers\r\n",
      "    Found existing installation: transformers 3.4.0\r\n",
      "    Uninstalling transformers-3.4.0:\r\n",
      "      Successfully uninstalled transformers-3.4.0\r\n",
      "\u001b[31mERROR: After October 2020 you may experience errors when installing or updating packages. This is because pip will change the way that it resolves dependency conflicts.\r\n",
      "\r\n",
      "We recommend you use --use-feature=2020-resolver to test your packages with the new resolver before it becomes the default.\r\n",
      "\r\n",
      "allennlp 1.2.0 requires transformers<3.5,>=3.1, but you'll have transformers 3.5.1 which is incompatible.\u001b[0m\r\n",
      "Successfully installed sentencepiece-0.1.91 tokenizers-0.9.3 transformers-3.5.1\r\n"
     ]
    }
   ],
   "source": [
    "!pip install --upgrade transformers # only run this once per kernel session - dont want to overload kaggle"
   ]
  },
  {
   "cell_type": "markdown",
   "metadata": {
    "papermill": {
     "duration": 0.031384,
     "end_time": "2020-11-20T01:34:04.239047",
     "exception": false,
     "start_time": "2020-11-20T01:34:04.207663",
     "status": "completed"
    },
    "tags": []
   },
   "source": [
    "Explanation of each library we use here:\n",
    "* numpy - numerical linear algebra library, makes it easy for us to do some array operations\n",
    "* transformers - huggingface's transformers NLP library, contains the BERT model + tokenizer that we will use\n",
    "* pickle - a library used for reading pickled files. Our data is pickled, so we need to use this library to open the data\n",
    "* tensorflow - the ML training library that we will use to train BERT and fine-tune it\n",
    "* re - regex python library, used in data cleaning\n",
    "* nltk - natural language toolkit, using in data cleaning\n",
    "* matplotlib - plotting library\n",
    "* seaborn - a nicer plotting library"
   ]
  },
  {
   "cell_type": "code",
   "execution_count": 2,
   "metadata": {
    "_cell_guid": "b1076dfc-b9ad-4769-8c92-a6c4dae69d19",
    "_uuid": "8f2839f25d086af736a60e9eeb907d3b93b6e0e5",
    "execution": {
     "iopub.execute_input": "2020-11-20T01:34:04.309717Z",
     "iopub.status.busy": "2020-11-20T01:34:04.308783Z",
     "iopub.status.idle": "2020-11-20T01:34:14.439319Z",
     "shell.execute_reply": "2020-11-20T01:34:14.438638Z"
    },
    "papermill": {
     "duration": 10.169415,
     "end_time": "2020-11-20T01:34:14.439429",
     "exception": false,
     "start_time": "2020-11-20T01:34:04.270014",
     "status": "completed"
    },
    "tags": []
   },
   "outputs": [],
   "source": [
    "import numpy as np # linear algebra\n",
    "import pandas as pd # data processing, CSV file I/O (e.g. pd.read_csv)\n",
    "import transformers as ppb # BERT Model\n",
    "import pickle # decode pickled data\n",
    "import tensorflow as tf\n",
    "from sklearn.neural_network import MLPClassifier\n",
    "from sklearn.model_selection import GridSearchCV\n",
    "from sklearn.model_selection import cross_val_score\n",
    "import re\n",
    "from nltk.stem import WordNetLemmatizer\n",
    "from nltk.tokenize import regexp_tokenize\n",
    "import matplotlib.pyplot as plt\n",
    "import seaborn as sns"
   ]
  },
  {
   "cell_type": "markdown",
   "metadata": {
    "papermill": {
     "duration": 0.032329,
     "end_time": "2020-11-20T01:34:14.506351",
     "exception": false,
     "start_time": "2020-11-20T01:34:14.474022",
     "status": "completed"
    },
    "tags": []
   },
   "source": [
    "First, load all the data into the program. We use the given training and testing set."
   ]
  },
  {
   "cell_type": "code",
   "execution_count": 3,
   "metadata": {
    "execution": {
     "iopub.execute_input": "2020-11-20T01:34:14.578955Z",
     "iopub.status.busy": "2020-11-20T01:34:14.578059Z",
     "iopub.status.idle": "2020-11-20T01:34:14.851716Z",
     "shell.execute_reply": "2020-11-20T01:34:14.850514Z"
    },
    "papermill": {
     "duration": 0.312401,
     "end_time": "2020-11-20T01:34:14.851849",
     "exception": false,
     "start_time": "2020-11-20T01:34:14.539448",
     "status": "completed"
    },
    "tags": []
   },
   "outputs": [],
   "source": [
    "train_x = pd.read_pickle(\"../input/humor-detection/X_train.pickle\")\n",
    "train_y = pd.read_pickle(\"../input/humor-detection/y_train.pickle\")\n",
    "test_x = pd.read_pickle(\"../input/humor-detection/X_test.pickle\")\n",
    "test_y = pd.read_pickle(\"../input/humor-detection/y_test.pickle\")"
   ]
  },
  {
   "cell_type": "markdown",
   "metadata": {
    "papermill": {
     "duration": 0.032268,
     "end_time": "2020-11-20T01:34:14.916979",
     "exception": false,
     "start_time": "2020-11-20T01:34:14.884711",
     "status": "completed"
    },
    "tags": []
   },
   "source": [
    "Below is the main model and tokenizer setup.\n",
    "\n",
    "To tokenize our data, we use huggingface's BertTokenizer, which does some extra stuff on top of our own cleaning, like adding tokens like \\[CLS\\], and other necessary steps for BERT. We still have to do the same data cleaning that we had done previously, and so I copied over the steps from there into here.\n",
    "\n",
    "The model is the TFBertForSequenceClassification model, which is basically a seqeunce classifier (like we want). This is better than previous models since the classification step and fine-tuning step are packed into one step, making it easier for us to use and work with."
   ]
  },
  {
   "cell_type": "code",
   "execution_count": 4,
   "metadata": {
    "_kg_hide-output": true,
    "execution": {
     "iopub.execute_input": "2020-11-20T01:34:14.987070Z",
     "iopub.status.busy": "2020-11-20T01:34:14.986292Z",
     "iopub.status.idle": "2020-11-20T01:34:44.835542Z",
     "shell.execute_reply": "2020-11-20T01:34:44.834897Z"
    },
    "papermill": {
     "duration": 29.886612,
     "end_time": "2020-11-20T01:34:44.835690",
     "exception": false,
     "start_time": "2020-11-20T01:34:14.949078",
     "status": "completed"
    },
    "tags": []
   },
   "outputs": [
    {
     "data": {
      "application/vnd.jupyter.widget-view+json": {
       "model_id": "c6fb3b31b1ab4e27830468ad72dd1aff",
       "version_major": 2,
       "version_minor": 0
      },
      "text/plain": [
       "HBox(children=(FloatProgress(value=0.0, description='Downloading', max=433.0, style=ProgressStyle(description_…"
      ]
     },
     "metadata": {},
     "output_type": "display_data"
    },
    {
     "name": "stdout",
     "output_type": "stream",
     "text": [
      "\n"
     ]
    },
    {
     "data": {
      "application/vnd.jupyter.widget-view+json": {
       "model_id": "bb77895f679b4ffdb6145d6b7a8fd466",
       "version_major": 2,
       "version_minor": 0
      },
      "text/plain": [
       "HBox(children=(FloatProgress(value=0.0, description='Downloading', max=231508.0, style=ProgressStyle(descripti…"
      ]
     },
     "metadata": {},
     "output_type": "display_data"
    },
    {
     "name": "stdout",
     "output_type": "stream",
     "text": [
      "\n"
     ]
    },
    {
     "data": {
      "application/vnd.jupyter.widget-view+json": {
       "model_id": "5788c80ef9344a298be3485b672abecc",
       "version_major": 2,
       "version_minor": 0
      },
      "text/plain": [
       "HBox(children=(FloatProgress(value=0.0, description='Downloading', max=536063208.0, style=ProgressStyle(descri…"
      ]
     },
     "metadata": {},
     "output_type": "display_data"
    },
    {
     "name": "stdout",
     "output_type": "stream",
     "text": [
      "\n"
     ]
    },
    {
     "name": "stderr",
     "output_type": "stream",
     "text": [
      "Some layers from the model checkpoint at bert-base-uncased were not used when initializing TFBertForSequenceClassification: ['nsp___cls', 'mlm___cls']\n",
      "- This IS expected if you are initializing TFBertForSequenceClassification from the checkpoint of a model trained on another task or with another architecture (e.g. initializing a BertForSequenceClassification model from a BertForPreTraining model).\n",
      "- This IS NOT expected if you are initializing TFBertForSequenceClassification from the checkpoint of a model that you expect to be exactly identical (initializing a BertForSequenceClassification model from a BertForSequenceClassification model).\n",
      "Some layers of TFBertForSequenceClassification were not initialized from the model checkpoint at bert-base-uncased and are newly initialized: ['classifier', 'dropout_37']\n",
      "You should probably TRAIN this model on a down-stream task to be able to use it for predictions and inference.\n"
     ]
    }
   ],
   "source": [
    "tokenizer = ppb.AutoTokenizer.from_pretrained(\"bert-base-uncased\")\n",
    "model = ppb.TFBertForSequenceClassification.from_pretrained(\"bert-base-uncased\")"
   ]
  },
  {
   "cell_type": "markdown",
   "metadata": {
    "papermill": {
     "duration": 0.038201,
     "end_time": "2020-11-20T01:34:44.913572",
     "exception": false,
     "start_time": "2020-11-20T01:34:44.875371",
     "status": "completed"
    },
    "tags": []
   },
   "source": [
    "These data cleaning functions below perform the same functions as were done in the main data processing notebook:\n",
    "* ``lemmatize()`` - lemmatizes the sentence input ``s``, helps simplify model vocabulary\n",
    "* ``lower()`` - lowercases all the words in the sentence inputs ``s`` - is a remnant of a previous iteration, but I kept it around since it did no harm\n",
    "* ``clean()`` - a generalized cleaning function that does the two steps above + removes all numbers from ``data``, list of sentences passed in\n",
    "* ``tokenize()`` - tokenizes the list of sentences passed in ``text`` - this is what the ``BertTokenizer`` from the transformers library does. Returns an array of word vectors.\n",
    "* ``process()`` - a combination of cleaning and tokenizing, a function really created for our ease of use"
   ]
  },
  {
   "cell_type": "code",
   "execution_count": 5,
   "metadata": {
    "execution": {
     "iopub.execute_input": "2020-11-20T01:34:45.000319Z",
     "iopub.status.busy": "2020-11-20T01:34:44.999528Z",
     "iopub.status.idle": "2020-11-20T01:34:45.003638Z",
     "shell.execute_reply": "2020-11-20T01:34:45.003028Z"
    },
    "papermill": {
     "duration": 0.050639,
     "end_time": "2020-11-20T01:34:45.003747",
     "exception": false,
     "start_time": "2020-11-20T01:34:44.953108",
     "status": "completed"
    },
    "tags": []
   },
   "outputs": [],
   "source": [
    "def lemmatize(s):\n",
    "    wordnet_lemmatizer = WordNetLemmatizer()\n",
    "    return \" \".join([wordnet_lemmatizer.lemmatize(w,'v') for w in s.split(\" \")])\n",
    "def lower(s):\n",
    "    return s.lower()\n",
    "def clean(data):\n",
    "    for item in data:\n",
    "        lemmatize(item)\n",
    "        lower(item)\n",
    "        re.sub(r'\\d+', '', item) # remove nums\n",
    "    return data\n",
    "def tokenize(text):\n",
    "    tokenized = tokenizer(text, padding=True, truncation=True, return_tensors=\"tf\")\n",
    "    return tokenized\n",
    "def process(data):\n",
    "    cleaned = clean(data)\n",
    "    return tokenize(data)"
   ]
  },
  {
   "cell_type": "code",
   "execution_count": 6,
   "metadata": {
    "execution": {
     "iopub.execute_input": "2020-11-20T01:34:45.086050Z",
     "iopub.status.busy": "2020-11-20T01:34:45.085256Z",
     "iopub.status.idle": "2020-11-20T01:35:02.010202Z",
     "shell.execute_reply": "2020-11-20T01:35:02.009319Z"
    },
    "papermill": {
     "duration": 16.968317,
     "end_time": "2020-11-20T01:35:02.010318",
     "exception": false,
     "start_time": "2020-11-20T01:34:45.042001",
     "status": "completed"
    },
    "tags": []
   },
   "outputs": [],
   "source": [
    "train_batch = process(train_x)\n",
    "test_batch = process(test_x)"
   ]
  },
  {
   "cell_type": "markdown",
   "metadata": {
    "papermill": {
     "duration": 0.035235,
     "end_time": "2020-11-20T01:35:02.081654",
     "exception": false,
     "start_time": "2020-11-20T01:35:02.046419",
     "status": "completed"
    },
    "tags": []
   },
   "source": [
    "Below we set up the TensorFlow model that we're going to use to classify and fine-tune BERT."
   ]
  },
  {
   "cell_type": "code",
   "execution_count": 7,
   "metadata": {
    "execution": {
     "iopub.execute_input": "2020-11-20T01:35:02.169996Z",
     "iopub.status.busy": "2020-11-20T01:35:02.168987Z",
     "iopub.status.idle": "2020-11-20T01:35:02.186444Z",
     "shell.execute_reply": "2020-11-20T01:35:02.185556Z"
    },
    "papermill": {
     "duration": 0.06841,
     "end_time": "2020-11-20T01:35:02.186557",
     "exception": false,
     "start_time": "2020-11-20T01:35:02.118147",
     "status": "completed"
    },
    "tags": []
   },
   "outputs": [],
   "source": [
    "import os\n",
    "learning_rate = 2e-6\n",
    "epochs = 10\n",
    "optimizer = tf.keras.optimizers.Adam(learning_rate=learning_rate, epsilon=1e-5)\n",
    "loss = tf.keras.losses.SparseCategoricalCrossentropy(from_logits=True)\n",
    "metric1 = tf.keras.metrics.SparseCategoricalAccuracy('accuracy')\n",
    "# callbacks = [tf.keras.callbacks.ModelCheckpoint(filepath=os.path.dirname(save_path), save_weights_only=True, monitor='val_loss', mode='min', save_best_only=True)]\n",
    "model.compile(optimizer=optimizer, loss=loss, metrics=[metric1])"
   ]
  },
  {
   "cell_type": "code",
   "execution_count": 8,
   "metadata": {
    "execution": {
     "iopub.execute_input": "2020-11-20T01:35:02.277931Z",
     "iopub.status.busy": "2020-11-20T01:35:02.265102Z",
     "iopub.status.idle": "2020-11-20T01:35:02.300800Z",
     "shell.execute_reply": "2020-11-20T01:35:02.301689Z"
    },
    "papermill": {
     "duration": 0.078456,
     "end_time": "2020-11-20T01:35:02.301900",
     "exception": false,
     "start_time": "2020-11-20T01:35:02.223444",
     "status": "completed"
    },
    "tags": []
   },
   "outputs": [
    {
     "name": "stdout",
     "output_type": "stream",
     "text": [
      "Model: \"tf_bert_for_sequence_classification\"\n",
      "_________________________________________________________________\n",
      "Layer (type)                 Output Shape              Param #   \n",
      "=================================================================\n",
      "bert (TFBertMainLayer)       multiple                  109482240 \n",
      "_________________________________________________________________\n",
      "dropout_37 (Dropout)         multiple                  0         \n",
      "_________________________________________________________________\n",
      "classifier (Dense)           multiple                  1538      \n",
      "=================================================================\n",
      "Total params: 109,483,778\n",
      "Trainable params: 109,483,778\n",
      "Non-trainable params: 0\n",
      "_________________________________________________________________\n"
     ]
    }
   ],
   "source": [
    "model.summary()"
   ]
  },
  {
   "cell_type": "code",
   "execution_count": 9,
   "metadata": {
    "execution": {
     "iopub.execute_input": "2020-11-20T01:35:02.388513Z",
     "iopub.status.busy": "2020-11-20T01:35:02.387521Z",
     "iopub.status.idle": "2020-11-20T02:31:25.072764Z",
     "shell.execute_reply": "2020-11-20T02:31:25.073479Z"
    },
    "papermill": {
     "duration": 3382.734012,
     "end_time": "2020-11-20T02:31:25.073698",
     "exception": false,
     "start_time": "2020-11-20T01:35:02.339686",
     "status": "completed"
    },
    "tags": []
   },
   "outputs": [
    {
     "name": "stdout",
     "output_type": "stream",
     "text": [
      "Epoch 1/10\n",
      "420/420 [==============================] - 339s 806ms/step - loss: 0.3652 - accuracy: 0.8692 - val_loss: 0.1242 - val_accuracy: 0.9639\n",
      "Epoch 2/10\n",
      "420/420 [==============================] - 335s 797ms/step - loss: 0.0933 - accuracy: 0.9719 - val_loss: 0.0714 - val_accuracy: 0.9773\n",
      "Epoch 3/10\n",
      "420/420 [==============================] - 335s 797ms/step - loss: 0.0579 - accuracy: 0.9820 - val_loss: 0.0581 - val_accuracy: 0.9818\n",
      "Epoch 4/10\n",
      "420/420 [==============================] - 335s 797ms/step - loss: 0.0399 - accuracy: 0.9875 - val_loss: 0.0526 - val_accuracy: 0.9830\n",
      "Epoch 5/10\n",
      "420/420 [==============================] - 335s 798ms/step - loss: 0.0295 - accuracy: 0.9914 - val_loss: 0.0498 - val_accuracy: 0.9839\n",
      "Epoch 6/10\n",
      "420/420 [==============================] - 335s 797ms/step - loss: 0.0210 - accuracy: 0.9942 - val_loss: 0.0491 - val_accuracy: 0.9851\n",
      "Epoch 7/10\n",
      "420/420 [==============================] - 335s 797ms/step - loss: 0.0152 - accuracy: 0.9960 - val_loss: 0.0503 - val_accuracy: 0.9836\n",
      "Epoch 8/10\n",
      "420/420 [==============================] - 335s 796ms/step - loss: 0.0117 - accuracy: 0.9964 - val_loss: 0.0507 - val_accuracy: 0.9845\n",
      "Epoch 9/10\n",
      "420/420 [==============================] - 335s 798ms/step - loss: 0.0077 - accuracy: 0.9986 - val_loss: 0.0556 - val_accuracy: 0.9854\n",
      "Epoch 10/10\n",
      "420/420 [==============================] - 335s 797ms/step - loss: 0.0064 - accuracy: 0.9987 - val_loss: 0.0542 - val_accuracy: 0.9863\n"
     ]
    }
   ],
   "source": [
    "history = model.fit(x=[train_batch.input_ids, train_batch.attention_mask], \n",
    "                    y=np.array(train_y), \n",
    "                    validation_data=([test_batch.input_ids, test_batch.attention_mask], np.array(test_y)), \n",
    "                    epochs=epochs,\n",
    "                    batch_size=32)"
   ]
  },
  {
   "cell_type": "code",
   "execution_count": 10,
   "metadata": {
    "execution": {
     "iopub.execute_input": "2020-11-20T02:31:28.011269Z",
     "iopub.status.busy": "2020-11-20T02:31:28.010350Z",
     "iopub.status.idle": "2020-11-20T02:31:43.154906Z",
     "shell.execute_reply": "2020-11-20T02:31:43.155398Z"
    },
    "papermill": {
     "duration": 16.61063,
     "end_time": "2020-11-20T02:31:43.155528",
     "exception": false,
     "start_time": "2020-11-20T02:31:26.544898",
     "status": "completed"
    },
    "tags": []
   },
   "outputs": [
    {
     "name": "stdout",
     "output_type": "stream",
     "text": [
      "105/105 [==============================] - 15s 142ms/step - loss: 0.0542 - accuracy: 0.9863\n"
     ]
    },
    {
     "data": {
      "text/plain": [
       "[0.054196543991565704, 0.9862891435623169]"
      ]
     },
     "execution_count": 10,
     "metadata": {},
     "output_type": "execute_result"
    }
   ],
   "source": [
    "model.evaluate(x=[test_batch.input_ids,test_batch.attention_mask], y=np.array(test_y))"
   ]
  },
  {
   "cell_type": "code",
   "execution_count": 11,
   "metadata": {
    "execution": {
     "iopub.execute_input": "2020-11-20T02:31:46.337565Z",
     "iopub.status.busy": "2020-11-20T02:31:46.336699Z",
     "iopub.status.idle": "2020-11-20T02:32:03.355266Z",
     "shell.execute_reply": "2020-11-20T02:32:03.354677Z"
    },
    "papermill": {
     "duration": 18.632557,
     "end_time": "2020-11-20T02:32:03.355375",
     "exception": false,
     "start_time": "2020-11-20T02:31:44.722818",
     "status": "completed"
    },
    "tags": []
   },
   "outputs": [],
   "source": [
    "from sklearn.metrics import classification_report\n",
    "y_pred = model.predict(x=test_batch.input_ids)"
   ]
  },
  {
   "cell_type": "code",
   "execution_count": 12,
   "metadata": {
    "execution": {
     "iopub.execute_input": "2020-11-20T02:32:06.361421Z",
     "iopub.status.busy": "2020-11-20T02:32:06.360476Z",
     "iopub.status.idle": "2020-11-20T02:32:06.377711Z",
     "shell.execute_reply": "2020-11-20T02:32:06.378527Z"
    },
    "papermill": {
     "duration": 1.522685,
     "end_time": "2020-11-20T02:32:06.378731",
     "exception": false,
     "start_time": "2020-11-20T02:32:04.856046",
     "status": "completed"
    },
    "tags": []
   },
   "outputs": [
    {
     "name": "stdout",
     "output_type": "stream",
     "text": [
      "(3355, 2)\n",
      "(3355,)\n",
      "[0 0 0 ... 0 0 0]\n",
      "[[ 0.18150629 -0.46780977]\n",
      " [-0.02558374 -0.27848935]\n",
      " [-0.13714966 -0.17368306]\n",
      " ...\n",
      " [ 0.44547603 -0.6948679 ]\n",
      " [ 0.15049738 -0.51288646]\n",
      " [ 0.11995767 -0.4173474 ]]\n",
      "              precision    recall  f1-score   support\n",
      "\n",
      "           0       0.85      0.93      0.89      2304\n",
      "           1       0.81      0.64      0.72      1051\n",
      "\n",
      "    accuracy                           0.84      3355\n",
      "   macro avg       0.83      0.79      0.80      3355\n",
      "weighted avg       0.84      0.84      0.83      3355\n",
      "\n"
     ]
    }
   ],
   "source": [
    "print(y_pred[0].shape)\n",
    "y_pred_bool = np.argmax(y_pred[0], axis=1)\n",
    "print(np.array(test_y).shape)\n",
    "print(y_pred_bool)\n",
    "print(y_pred[0])\n",
    "print(classification_report(test_y, y_pred_bool,))"
   ]
  },
  {
   "cell_type": "code",
   "execution_count": 13,
   "metadata": {
    "execution": {
     "iopub.execute_input": "2020-11-20T02:32:09.483260Z",
     "iopub.status.busy": "2020-11-20T02:32:09.482329Z",
     "iopub.status.idle": "2020-11-20T02:32:09.485137Z",
     "shell.execute_reply": "2020-11-20T02:32:09.484658Z"
    },
    "papermill": {
     "duration": 1.552829,
     "end_time": "2020-11-20T02:32:09.485240",
     "exception": false,
     "start_time": "2020-11-20T02:32:07.932411",
     "status": "completed"
    },
    "tags": []
   },
   "outputs": [],
   "source": [
    "def predict(joke, model):\n",
    "    test_jokes = [\n",
    "    \"Don’t you hate people who use big words just to make themselves look perspicacious?\",\n",
    "    \"My friend thinks he is smart. He told me an onion is the only food that makes you cry, so I threw a coconut at his face.\",\n",
    "    \"So far, consumers haven’t returned to the sort of panic buying frenzy that sent packaged-food manufacturers scrambling earlier this year.\",\n",
    "    \"Wall Street Week Ahead: Stock investors cast wary eye on yield rally\",\n",
    "    \"What happens to a frog's car when it breaks down? It gets toad away.\"\n",
    "    ]\n",
    "    test_jokes.append(joke)\n",
    "    tk = tokenizer(test_jokes, padding=True)\n",
    "    out = model.predict(x=tk.input_ids)\n",
    "    boolean_pred = np.argmax(out[0], axis=1)\n",
    "    return boolean_pred[len(boolean_pred)-1] == 1"
   ]
  },
  {
   "cell_type": "code",
   "execution_count": 14,
   "metadata": {
    "execution": {
     "iopub.execute_input": "2020-11-20T02:32:12.797068Z",
     "iopub.status.busy": "2020-11-20T02:32:12.793960Z",
     "iopub.status.idle": "2020-11-20T02:32:16.086349Z",
     "shell.execute_reply": "2020-11-20T02:32:16.085249Z"
    },
    "papermill": {
     "duration": 5.080758,
     "end_time": "2020-11-20T02:32:16.086460",
     "exception": false,
     "start_time": "2020-11-20T02:32:11.005702",
     "status": "completed"
    },
    "tags": []
   },
   "outputs": [
    {
     "data": {
      "text/plain": [
       "True"
      ]
     },
     "execution_count": 14,
     "metadata": {},
     "output_type": "execute_result"
    }
   ],
   "source": [
    "predict(\"I didn t climb to the top of the food chain to be a vegetarian...\", model)"
   ]
  },
  {
   "cell_type": "code",
   "execution_count": 15,
   "metadata": {
    "execution": {
     "iopub.execute_input": "2020-11-20T02:32:19.146933Z",
     "iopub.status.busy": "2020-11-20T02:32:19.146038Z",
     "iopub.status.idle": "2020-11-20T02:32:21.671513Z",
     "shell.execute_reply": "2020-11-20T02:32:21.672338Z"
    },
    "papermill": {
     "duration": 4.05517,
     "end_time": "2020-11-20T02:32:21.672562",
     "exception": false,
     "start_time": "2020-11-20T02:32:17.617392",
     "status": "completed"
    },
    "tags": []
   },
   "outputs": [],
   "source": [
    "submission = pd.DataFrame({\"Prediction\":y_pred_bool})\n",
    "submission.to_csv(\"predictions.csv\", index=True, index_label=\"Id\")\n",
    "model.save_weights(\"./model/model_checkpoint.ckpt\")"
   ]
  },
  {
   "cell_type": "code",
   "execution_count": 16,
   "metadata": {
    "execution": {
     "iopub.execute_input": "2020-11-20T02:32:26.723338Z",
     "iopub.status.busy": "2020-11-20T02:32:26.722702Z",
     "iopub.status.idle": "2020-11-20T02:32:47.121008Z",
     "shell.execute_reply": "2020-11-20T02:32:47.120442Z"
    },
    "papermill": {
     "duration": 23.408908,
     "end_time": "2020-11-20T02:32:47.121137",
     "exception": false,
     "start_time": "2020-11-20T02:32:23.712229",
     "status": "completed"
    },
    "tags": []
   },
   "outputs": [
    {
     "name": "stderr",
     "output_type": "stream",
     "text": [
      "Some layers from the model checkpoint at bert-base-uncased were not used when initializing TFBertForSequenceClassification: ['nsp___cls', 'mlm___cls']\n",
      "- This IS expected if you are initializing TFBertForSequenceClassification from the checkpoint of a model trained on another task or with another architecture (e.g. initializing a BertForSequenceClassification model from a BertForPreTraining model).\n",
      "- This IS NOT expected if you are initializing TFBertForSequenceClassification from the checkpoint of a model that you expect to be exactly identical (initializing a BertForSequenceClassification model from a BertForSequenceClassification model).\n",
      "Some layers of TFBertForSequenceClassification were not initialized from the model checkpoint at bert-base-uncased and are newly initialized: ['dropout_75', 'classifier']\n",
      "You should probably TRAIN this model on a down-stream task to be able to use it for predictions and inference.\n"
     ]
    },
    {
     "name": "stdout",
     "output_type": "stream",
     "text": [
      "105/105 [==============================] - 15s 143ms/step - loss: 0.0542 - accuracy: 0.9863\n"
     ]
    },
    {
     "data": {
      "text/plain": [
       "[0.054196543991565704, 0.9862891435623169]"
      ]
     },
     "execution_count": 16,
     "metadata": {},
     "output_type": "execute_result"
    }
   ],
   "source": [
    "model_new = ppb.TFBertForSequenceClassification.from_pretrained(\"bert-base-uncased\")\n",
    "model_new.load_weights(\"./model/model_checkpoint.ckpt\")\n",
    "model_new.compile(optimizer=optimizer, loss=loss, metrics=[metric1])\n",
    "model_new.evaluate(x=[test_batch.input_ids,test_batch.attention_mask], y=np.array(test_y))"
   ]
  },
  {
   "cell_type": "code",
   "execution_count": 17,
   "metadata": {
    "execution": {
     "iopub.execute_input": "2020-11-20T02:32:50.365145Z",
     "iopub.status.busy": "2020-11-20T02:32:50.364240Z",
     "iopub.status.idle": "2020-11-20T02:32:53.275898Z",
     "shell.execute_reply": "2020-11-20T02:32:53.275231Z"
    },
    "papermill": {
     "duration": 4.539327,
     "end_time": "2020-11-20T02:32:53.276042",
     "exception": false,
     "start_time": "2020-11-20T02:32:48.736715",
     "status": "completed"
    },
    "tags": []
   },
   "outputs": [
    {
     "data": {
      "text/plain": [
       "True"
      ]
     },
     "execution_count": 17,
     "metadata": {},
     "output_type": "execute_result"
    }
   ],
   "source": [
    "predict(\"The Michigan Data Science Team is amazing!\", model_new)"
   ]
  },
  {
   "cell_type": "code",
   "execution_count": null,
   "metadata": {
    "papermill": {
     "duration": 1.539652,
     "end_time": "2020-11-20T02:32:56.370915",
     "exception": false,
     "start_time": "2020-11-20T02:32:54.831263",
     "status": "completed"
    },
    "tags": []
   },
   "outputs": [],
   "source": []
  }
 ],
 "metadata": {
  "kernelspec": {
   "display_name": "Python 3",
   "language": "python",
   "name": "python3"
  },
  "language_info": {
   "codemirror_mode": {
    "name": "ipython",
    "version": 3
   },
   "file_extension": ".py",
   "mimetype": "text/x-python",
   "name": "python",
   "nbconvert_exporter": "python",
   "pygments_lexer": "ipython3",
   "version": "3.7.6"
  },
  "papermill": {
   "duration": 3554.166943,
   "end_time": "2020-11-20T02:32:59.977829",
   "environment_variables": {},
   "exception": null,
   "input_path": "__notebook__.ipynb",
   "output_path": "__notebook__.ipynb",
   "parameters": {},
   "start_time": "2020-11-20T01:33:45.810886",
   "version": "2.1.0"
  },
  "widgets": {
   "application/vnd.jupyter.widget-state+json": {
    "state": {
     "0fadb448cd2a48dfb9363777c058e5dd": {
      "model_module": "@jupyter-widgets/base",
      "model_module_version": "1.2.0",
      "model_name": "LayoutModel",
      "state": {
       "_model_module": "@jupyter-widgets/base",
       "_model_module_version": "1.2.0",
       "_model_name": "LayoutModel",
       "_view_count": null,
       "_view_module": "@jupyter-widgets/base",
       "_view_module_version": "1.2.0",
       "_view_name": "LayoutView",
       "align_content": null,
       "align_items": null,
       "align_self": null,
       "border": null,
       "bottom": null,
       "display": null,
       "flex": null,
       "flex_flow": null,
       "grid_area": null,
       "grid_auto_columns": null,
       "grid_auto_flow": null,
       "grid_auto_rows": null,
       "grid_column": null,
       "grid_gap": null,
       "grid_row": null,
       "grid_template_areas": null,
       "grid_template_columns": null,
       "grid_template_rows": null,
       "height": null,
       "justify_content": null,
       "justify_items": null,
       "left": null,
       "margin": null,
       "max_height": null,
       "max_width": null,
       "min_height": null,
       "min_width": null,
       "object_fit": null,
       "object_position": null,
       "order": null,
       "overflow": null,
       "overflow_x": null,
       "overflow_y": null,
       "padding": null,
       "right": null,
       "top": null,
       "visibility": null,
       "width": null
      }
     },
     "2c82efc94d64498cb5d5ee68df029f0e": {
      "model_module": "@jupyter-widgets/base",
      "model_module_version": "1.2.0",
      "model_name": "LayoutModel",
      "state": {
       "_model_module": "@jupyter-widgets/base",
       "_model_module_version": "1.2.0",
       "_model_name": "LayoutModel",
       "_view_count": null,
       "_view_module": "@jupyter-widgets/base",
       "_view_module_version": "1.2.0",
       "_view_name": "LayoutView",
       "align_content": null,
       "align_items": null,
       "align_self": null,
       "border": null,
       "bottom": null,
       "display": null,
       "flex": null,
       "flex_flow": null,
       "grid_area": null,
       "grid_auto_columns": null,
       "grid_auto_flow": null,
       "grid_auto_rows": null,
       "grid_column": null,
       "grid_gap": null,
       "grid_row": null,
       "grid_template_areas": null,
       "grid_template_columns": null,
       "grid_template_rows": null,
       "height": null,
       "justify_content": null,
       "justify_items": null,
       "left": null,
       "margin": null,
       "max_height": null,
       "max_width": null,
       "min_height": null,
       "min_width": null,
       "object_fit": null,
       "object_position": null,
       "order": null,
       "overflow": null,
       "overflow_x": null,
       "overflow_y": null,
       "padding": null,
       "right": null,
       "top": null,
       "visibility": null,
       "width": null
      }
     },
     "362089f043c64577899c05c22ff3a227": {
      "model_module": "@jupyter-widgets/controls",
      "model_module_version": "1.5.0",
      "model_name": "FloatProgressModel",
      "state": {
       "_dom_classes": [],
       "_model_module": "@jupyter-widgets/controls",
       "_model_module_version": "1.5.0",
       "_model_name": "FloatProgressModel",
       "_view_count": null,
       "_view_module": "@jupyter-widgets/controls",
       "_view_module_version": "1.5.0",
       "_view_name": "ProgressView",
       "bar_style": "success",
       "description": "Downloading: 100%",
       "description_tooltip": null,
       "layout": "IPY_MODEL_b0120d8e269b435999382a82341537d0",
       "max": 433.0,
       "min": 0.0,
       "orientation": "horizontal",
       "style": "IPY_MODEL_ce7057eb9e0f4dab9c76254fcd73a261",
       "value": 433.0
      }
     },
     "3e4a061af52d4ac8906eefdd0dc1e1fc": {
      "model_module": "@jupyter-widgets/controls",
      "model_module_version": "1.5.0",
      "model_name": "DescriptionStyleModel",
      "state": {
       "_model_module": "@jupyter-widgets/controls",
       "_model_module_version": "1.5.0",
       "_model_name": "DescriptionStyleModel",
       "_view_count": null,
       "_view_module": "@jupyter-widgets/base",
       "_view_module_version": "1.2.0",
       "_view_name": "StyleView",
       "description_width": ""
      }
     },
     "3e94759d17b149dfa938227629907a7b": {
      "model_module": "@jupyter-widgets/controls",
      "model_module_version": "1.5.0",
      "model_name": "FloatProgressModel",
      "state": {
       "_dom_classes": [],
       "_model_module": "@jupyter-widgets/controls",
       "_model_module_version": "1.5.0",
       "_model_name": "FloatProgressModel",
       "_view_count": null,
       "_view_module": "@jupyter-widgets/controls",
       "_view_module_version": "1.5.0",
       "_view_name": "ProgressView",
       "bar_style": "success",
       "description": "Downloading: 100%",
       "description_tooltip": null,
       "layout": "IPY_MODEL_2c82efc94d64498cb5d5ee68df029f0e",
       "max": 536063208.0,
       "min": 0.0,
       "orientation": "horizontal",
       "style": "IPY_MODEL_f4cdac7e08d34ad29ffebe4e83f15166",
       "value": 536063208.0
      }
     },
     "5788c80ef9344a298be3485b672abecc": {
      "model_module": "@jupyter-widgets/controls",
      "model_module_version": "1.5.0",
      "model_name": "HBoxModel",
      "state": {
       "_dom_classes": [],
       "_model_module": "@jupyter-widgets/controls",
       "_model_module_version": "1.5.0",
       "_model_name": "HBoxModel",
       "_view_count": null,
       "_view_module": "@jupyter-widgets/controls",
       "_view_module_version": "1.5.0",
       "_view_name": "HBoxView",
       "box_style": "",
       "children": [
        "IPY_MODEL_3e94759d17b149dfa938227629907a7b",
        "IPY_MODEL_e22082e4ed38462897891e04fa470511"
       ],
       "layout": "IPY_MODEL_0fadb448cd2a48dfb9363777c058e5dd"
      }
     },
     "5e215be369164b9dae30ed3c76043e29": {
      "model_module": "@jupyter-widgets/controls",
      "model_module_version": "1.5.0",
      "model_name": "HTMLModel",
      "state": {
       "_dom_classes": [],
       "_model_module": "@jupyter-widgets/controls",
       "_model_module_version": "1.5.0",
       "_model_name": "HTMLModel",
       "_view_count": null,
       "_view_module": "@jupyter-widgets/controls",
       "_view_module_version": "1.5.0",
       "_view_name": "HTMLView",
       "description": "",
       "description_tooltip": null,
       "layout": "IPY_MODEL_87bbc3970121495a8688bf5408da7da5",
       "placeholder": "​",
       "style": "IPY_MODEL_ef19418b657348e292ff9e6422787d40",
       "value": " 433/433 [00:00&lt;00:00, 11.2kB/s]"
      }
     },
     "69b0c7a0ea8944a2a9a660174c3e5363": {
      "model_module": "@jupyter-widgets/controls",
      "model_module_version": "1.5.0",
      "model_name": "HTMLModel",
      "state": {
       "_dom_classes": [],
       "_model_module": "@jupyter-widgets/controls",
       "_model_module_version": "1.5.0",
       "_model_name": "HTMLModel",
       "_view_count": null,
       "_view_module": "@jupyter-widgets/controls",
       "_view_module_version": "1.5.0",
       "_view_name": "HTMLView",
       "description": "",
       "description_tooltip": null,
       "layout": "IPY_MODEL_78df367d6fa94ccb877cf2717a118d9f",
       "placeholder": "​",
       "style": "IPY_MODEL_ba75440ce26449c1b4b084fb9f0956df",
       "value": " 232k/232k [00:00&lt;00:00, 757kB/s]"
      }
     },
     "78df367d6fa94ccb877cf2717a118d9f": {
      "model_module": "@jupyter-widgets/base",
      "model_module_version": "1.2.0",
      "model_name": "LayoutModel",
      "state": {
       "_model_module": "@jupyter-widgets/base",
       "_model_module_version": "1.2.0",
       "_model_name": "LayoutModel",
       "_view_count": null,
       "_view_module": "@jupyter-widgets/base",
       "_view_module_version": "1.2.0",
       "_view_name": "LayoutView",
       "align_content": null,
       "align_items": null,
       "align_self": null,
       "border": null,
       "bottom": null,
       "display": null,
       "flex": null,
       "flex_flow": null,
       "grid_area": null,
       "grid_auto_columns": null,
       "grid_auto_flow": null,
       "grid_auto_rows": null,
       "grid_column": null,
       "grid_gap": null,
       "grid_row": null,
       "grid_template_areas": null,
       "grid_template_columns": null,
       "grid_template_rows": null,
       "height": null,
       "justify_content": null,
       "justify_items": null,
       "left": null,
       "margin": null,
       "max_height": null,
       "max_width": null,
       "min_height": null,
       "min_width": null,
       "object_fit": null,
       "object_position": null,
       "order": null,
       "overflow": null,
       "overflow_x": null,
       "overflow_y": null,
       "padding": null,
       "right": null,
       "top": null,
       "visibility": null,
       "width": null
      }
     },
     "7a776506c4d1423eac16805714967a19": {
      "model_module": "@jupyter-widgets/controls",
      "model_module_version": "1.5.0",
      "model_name": "FloatProgressModel",
      "state": {
       "_dom_classes": [],
       "_model_module": "@jupyter-widgets/controls",
       "_model_module_version": "1.5.0",
       "_model_name": "FloatProgressModel",
       "_view_count": null,
       "_view_module": "@jupyter-widgets/controls",
       "_view_module_version": "1.5.0",
       "_view_name": "ProgressView",
       "bar_style": "success",
       "description": "Downloading: 100%",
       "description_tooltip": null,
       "layout": "IPY_MODEL_e73b60e323e441378e9dfa7ca8ee3d5d",
       "max": 231508.0,
       "min": 0.0,
       "orientation": "horizontal",
       "style": "IPY_MODEL_bf8ad549d1f946748cc0584368358155",
       "value": 231508.0
      }
     },
     "82c659a5586a431abd5820a604470fe5": {
      "model_module": "@jupyter-widgets/base",
      "model_module_version": "1.2.0",
      "model_name": "LayoutModel",
      "state": {
       "_model_module": "@jupyter-widgets/base",
       "_model_module_version": "1.2.0",
       "_model_name": "LayoutModel",
       "_view_count": null,
       "_view_module": "@jupyter-widgets/base",
       "_view_module_version": "1.2.0",
       "_view_name": "LayoutView",
       "align_content": null,
       "align_items": null,
       "align_self": null,
       "border": null,
       "bottom": null,
       "display": null,
       "flex": null,
       "flex_flow": null,
       "grid_area": null,
       "grid_auto_columns": null,
       "grid_auto_flow": null,
       "grid_auto_rows": null,
       "grid_column": null,
       "grid_gap": null,
       "grid_row": null,
       "grid_template_areas": null,
       "grid_template_columns": null,
       "grid_template_rows": null,
       "height": null,
       "justify_content": null,
       "justify_items": null,
       "left": null,
       "margin": null,
       "max_height": null,
       "max_width": null,
       "min_height": null,
       "min_width": null,
       "object_fit": null,
       "object_position": null,
       "order": null,
       "overflow": null,
       "overflow_x": null,
       "overflow_y": null,
       "padding": null,
       "right": null,
       "top": null,
       "visibility": null,
       "width": null
      }
     },
     "85c9a3e7f4594726ada361983b67f059": {
      "model_module": "@jupyter-widgets/base",
      "model_module_version": "1.2.0",
      "model_name": "LayoutModel",
      "state": {
       "_model_module": "@jupyter-widgets/base",
       "_model_module_version": "1.2.0",
       "_model_name": "LayoutModel",
       "_view_count": null,
       "_view_module": "@jupyter-widgets/base",
       "_view_module_version": "1.2.0",
       "_view_name": "LayoutView",
       "align_content": null,
       "align_items": null,
       "align_self": null,
       "border": null,
       "bottom": null,
       "display": null,
       "flex": null,
       "flex_flow": null,
       "grid_area": null,
       "grid_auto_columns": null,
       "grid_auto_flow": null,
       "grid_auto_rows": null,
       "grid_column": null,
       "grid_gap": null,
       "grid_row": null,
       "grid_template_areas": null,
       "grid_template_columns": null,
       "grid_template_rows": null,
       "height": null,
       "justify_content": null,
       "justify_items": null,
       "left": null,
       "margin": null,
       "max_height": null,
       "max_width": null,
       "min_height": null,
       "min_width": null,
       "object_fit": null,
       "object_position": null,
       "order": null,
       "overflow": null,
       "overflow_x": null,
       "overflow_y": null,
       "padding": null,
       "right": null,
       "top": null,
       "visibility": null,
       "width": null
      }
     },
     "87bbc3970121495a8688bf5408da7da5": {
      "model_module": "@jupyter-widgets/base",
      "model_module_version": "1.2.0",
      "model_name": "LayoutModel",
      "state": {
       "_model_module": "@jupyter-widgets/base",
       "_model_module_version": "1.2.0",
       "_model_name": "LayoutModel",
       "_view_count": null,
       "_view_module": "@jupyter-widgets/base",
       "_view_module_version": "1.2.0",
       "_view_name": "LayoutView",
       "align_content": null,
       "align_items": null,
       "align_self": null,
       "border": null,
       "bottom": null,
       "display": null,
       "flex": null,
       "flex_flow": null,
       "grid_area": null,
       "grid_auto_columns": null,
       "grid_auto_flow": null,
       "grid_auto_rows": null,
       "grid_column": null,
       "grid_gap": null,
       "grid_row": null,
       "grid_template_areas": null,
       "grid_template_columns": null,
       "grid_template_rows": null,
       "height": null,
       "justify_content": null,
       "justify_items": null,
       "left": null,
       "margin": null,
       "max_height": null,
       "max_width": null,
       "min_height": null,
       "min_width": null,
       "object_fit": null,
       "object_position": null,
       "order": null,
       "overflow": null,
       "overflow_x": null,
       "overflow_y": null,
       "padding": null,
       "right": null,
       "top": null,
       "visibility": null,
       "width": null
      }
     },
     "b0120d8e269b435999382a82341537d0": {
      "model_module": "@jupyter-widgets/base",
      "model_module_version": "1.2.0",
      "model_name": "LayoutModel",
      "state": {
       "_model_module": "@jupyter-widgets/base",
       "_model_module_version": "1.2.0",
       "_model_name": "LayoutModel",
       "_view_count": null,
       "_view_module": "@jupyter-widgets/base",
       "_view_module_version": "1.2.0",
       "_view_name": "LayoutView",
       "align_content": null,
       "align_items": null,
       "align_self": null,
       "border": null,
       "bottom": null,
       "display": null,
       "flex": null,
       "flex_flow": null,
       "grid_area": null,
       "grid_auto_columns": null,
       "grid_auto_flow": null,
       "grid_auto_rows": null,
       "grid_column": null,
       "grid_gap": null,
       "grid_row": null,
       "grid_template_areas": null,
       "grid_template_columns": null,
       "grid_template_rows": null,
       "height": null,
       "justify_content": null,
       "justify_items": null,
       "left": null,
       "margin": null,
       "max_height": null,
       "max_width": null,
       "min_height": null,
       "min_width": null,
       "object_fit": null,
       "object_position": null,
       "order": null,
       "overflow": null,
       "overflow_x": null,
       "overflow_y": null,
       "padding": null,
       "right": null,
       "top": null,
       "visibility": null,
       "width": null
      }
     },
     "ba75440ce26449c1b4b084fb9f0956df": {
      "model_module": "@jupyter-widgets/controls",
      "model_module_version": "1.5.0",
      "model_name": "DescriptionStyleModel",
      "state": {
       "_model_module": "@jupyter-widgets/controls",
       "_model_module_version": "1.5.0",
       "_model_name": "DescriptionStyleModel",
       "_view_count": null,
       "_view_module": "@jupyter-widgets/base",
       "_view_module_version": "1.2.0",
       "_view_name": "StyleView",
       "description_width": ""
      }
     },
     "bb77895f679b4ffdb6145d6b7a8fd466": {
      "model_module": "@jupyter-widgets/controls",
      "model_module_version": "1.5.0",
      "model_name": "HBoxModel",
      "state": {
       "_dom_classes": [],
       "_model_module": "@jupyter-widgets/controls",
       "_model_module_version": "1.5.0",
       "_model_name": "HBoxModel",
       "_view_count": null,
       "_view_module": "@jupyter-widgets/controls",
       "_view_module_version": "1.5.0",
       "_view_name": "HBoxView",
       "box_style": "",
       "children": [
        "IPY_MODEL_7a776506c4d1423eac16805714967a19",
        "IPY_MODEL_69b0c7a0ea8944a2a9a660174c3e5363"
       ],
       "layout": "IPY_MODEL_85c9a3e7f4594726ada361983b67f059"
      }
     },
     "bf8ad549d1f946748cc0584368358155": {
      "model_module": "@jupyter-widgets/controls",
      "model_module_version": "1.5.0",
      "model_name": "ProgressStyleModel",
      "state": {
       "_model_module": "@jupyter-widgets/controls",
       "_model_module_version": "1.5.0",
       "_model_name": "ProgressStyleModel",
       "_view_count": null,
       "_view_module": "@jupyter-widgets/base",
       "_view_module_version": "1.2.0",
       "_view_name": "StyleView",
       "bar_color": null,
       "description_width": "initial"
      }
     },
     "c6fb3b31b1ab4e27830468ad72dd1aff": {
      "model_module": "@jupyter-widgets/controls",
      "model_module_version": "1.5.0",
      "model_name": "HBoxModel",
      "state": {
       "_dom_classes": [],
       "_model_module": "@jupyter-widgets/controls",
       "_model_module_version": "1.5.0",
       "_model_name": "HBoxModel",
       "_view_count": null,
       "_view_module": "@jupyter-widgets/controls",
       "_view_module_version": "1.5.0",
       "_view_name": "HBoxView",
       "box_style": "",
       "children": [
        "IPY_MODEL_362089f043c64577899c05c22ff3a227",
        "IPY_MODEL_5e215be369164b9dae30ed3c76043e29"
       ],
       "layout": "IPY_MODEL_dd00d0637dbb4e599cc520351c626c08"
      }
     },
     "ce7057eb9e0f4dab9c76254fcd73a261": {
      "model_module": "@jupyter-widgets/controls",
      "model_module_version": "1.5.0",
      "model_name": "ProgressStyleModel",
      "state": {
       "_model_module": "@jupyter-widgets/controls",
       "_model_module_version": "1.5.0",
       "_model_name": "ProgressStyleModel",
       "_view_count": null,
       "_view_module": "@jupyter-widgets/base",
       "_view_module_version": "1.2.0",
       "_view_name": "StyleView",
       "bar_color": null,
       "description_width": "initial"
      }
     },
     "dd00d0637dbb4e599cc520351c626c08": {
      "model_module": "@jupyter-widgets/base",
      "model_module_version": "1.2.0",
      "model_name": "LayoutModel",
      "state": {
       "_model_module": "@jupyter-widgets/base",
       "_model_module_version": "1.2.0",
       "_model_name": "LayoutModel",
       "_view_count": null,
       "_view_module": "@jupyter-widgets/base",
       "_view_module_version": "1.2.0",
       "_view_name": "LayoutView",
       "align_content": null,
       "align_items": null,
       "align_self": null,
       "border": null,
       "bottom": null,
       "display": null,
       "flex": null,
       "flex_flow": null,
       "grid_area": null,
       "grid_auto_columns": null,
       "grid_auto_flow": null,
       "grid_auto_rows": null,
       "grid_column": null,
       "grid_gap": null,
       "grid_row": null,
       "grid_template_areas": null,
       "grid_template_columns": null,
       "grid_template_rows": null,
       "height": null,
       "justify_content": null,
       "justify_items": null,
       "left": null,
       "margin": null,
       "max_height": null,
       "max_width": null,
       "min_height": null,
       "min_width": null,
       "object_fit": null,
       "object_position": null,
       "order": null,
       "overflow": null,
       "overflow_x": null,
       "overflow_y": null,
       "padding": null,
       "right": null,
       "top": null,
       "visibility": null,
       "width": null
      }
     },
     "e22082e4ed38462897891e04fa470511": {
      "model_module": "@jupyter-widgets/controls",
      "model_module_version": "1.5.0",
      "model_name": "HTMLModel",
      "state": {
       "_dom_classes": [],
       "_model_module": "@jupyter-widgets/controls",
       "_model_module_version": "1.5.0",
       "_model_name": "HTMLModel",
       "_view_count": null,
       "_view_module": "@jupyter-widgets/controls",
       "_view_module_version": "1.5.0",
       "_view_name": "HTMLView",
       "description": "",
       "description_tooltip": null,
       "layout": "IPY_MODEL_82c659a5586a431abd5820a604470fe5",
       "placeholder": "​",
       "style": "IPY_MODEL_3e4a061af52d4ac8906eefdd0dc1e1fc",
       "value": " 536M/536M [00:24&lt;00:00, 22.2MB/s]"
      }
     },
     "e73b60e323e441378e9dfa7ca8ee3d5d": {
      "model_module": "@jupyter-widgets/base",
      "model_module_version": "1.2.0",
      "model_name": "LayoutModel",
      "state": {
       "_model_module": "@jupyter-widgets/base",
       "_model_module_version": "1.2.0",
       "_model_name": "LayoutModel",
       "_view_count": null,
       "_view_module": "@jupyter-widgets/base",
       "_view_module_version": "1.2.0",
       "_view_name": "LayoutView",
       "align_content": null,
       "align_items": null,
       "align_self": null,
       "border": null,
       "bottom": null,
       "display": null,
       "flex": null,
       "flex_flow": null,
       "grid_area": null,
       "grid_auto_columns": null,
       "grid_auto_flow": null,
       "grid_auto_rows": null,
       "grid_column": null,
       "grid_gap": null,
       "grid_row": null,
       "grid_template_areas": null,
       "grid_template_columns": null,
       "grid_template_rows": null,
       "height": null,
       "justify_content": null,
       "justify_items": null,
       "left": null,
       "margin": null,
       "max_height": null,
       "max_width": null,
       "min_height": null,
       "min_width": null,
       "object_fit": null,
       "object_position": null,
       "order": null,
       "overflow": null,
       "overflow_x": null,
       "overflow_y": null,
       "padding": null,
       "right": null,
       "top": null,
       "visibility": null,
       "width": null
      }
     },
     "ef19418b657348e292ff9e6422787d40": {
      "model_module": "@jupyter-widgets/controls",
      "model_module_version": "1.5.0",
      "model_name": "DescriptionStyleModel",
      "state": {
       "_model_module": "@jupyter-widgets/controls",
       "_model_module_version": "1.5.0",
       "_model_name": "DescriptionStyleModel",
       "_view_count": null,
       "_view_module": "@jupyter-widgets/base",
       "_view_module_version": "1.2.0",
       "_view_name": "StyleView",
       "description_width": ""
      }
     },
     "f4cdac7e08d34ad29ffebe4e83f15166": {
      "model_module": "@jupyter-widgets/controls",
      "model_module_version": "1.5.0",
      "model_name": "ProgressStyleModel",
      "state": {
       "_model_module": "@jupyter-widgets/controls",
       "_model_module_version": "1.5.0",
       "_model_name": "ProgressStyleModel",
       "_view_count": null,
       "_view_module": "@jupyter-widgets/base",
       "_view_module_version": "1.2.0",
       "_view_name": "StyleView",
       "bar_color": null,
       "description_width": "initial"
      }
     }
    },
    "version_major": 2,
    "version_minor": 0
   }
  }
 },
 "nbformat": 4,
 "nbformat_minor": 4
}
